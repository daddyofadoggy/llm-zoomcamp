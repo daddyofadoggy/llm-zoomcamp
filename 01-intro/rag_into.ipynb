{
 "cells": [
  {
   "cell_type": "code",
   "execution_count": 1,
   "id": "ea0c6eb1-d02c-4fe1-afb1-059e7dc2bd9f",
   "metadata": {},
   "outputs": [
    {
     "name": "stdout",
     "output_type": "stream",
     "text": [
      "--2025-04-29 04:20:19--  https://raw.githubusercontent.com/alexeygrigorev/minsearch/refs/heads/main/minsearch.py\n",
      "Resolving raw.githubusercontent.com (raw.githubusercontent.com)... 185.199.111.133, 185.199.108.133, 185.199.109.133, ...\n",
      "Connecting to raw.githubusercontent.com (raw.githubusercontent.com)|185.199.111.133|:443... connected.\n",
      "HTTP request sent, awaiting response... 200 OK\n",
      "Length: 3832 (3.7K) [text/plain]\n",
      "Saving to: ‘minsearch.py’\n",
      "\n",
      "minsearch.py        100%[===================>]   3.74K  --.-KB/s    in 0s      \n",
      "\n",
      "2025-04-29 04:20:19 (44.8 MB/s) - ‘minsearch.py’ saved [3832/3832]\n",
      "\n"
     ]
    }
   ],
   "source": [
    "!wget https://raw.githubusercontent.com/alexeygrigorev/minsearch/refs/heads/main/minsearch.py"
   ]
  },
  {
   "cell_type": "code",
   "execution_count": 3,
   "id": "af551229-5865-4f7f-b8e5-d68e2b64937c",
   "metadata": {},
   "outputs": [
    {
     "name": "stdout",
     "output_type": "stream",
     "text": [
      "--2025-04-29 04:23:15--  https://raw.githubusercontent.com/DataTalksClub/llm-zoomcamp/refs/heads/main/01-intro/parse-faq.ipynb\n",
      "Resolving raw.githubusercontent.com (raw.githubusercontent.com)... 185.199.110.133, 185.199.109.133, 185.199.111.133, ...\n",
      "Connecting to raw.githubusercontent.com (raw.githubusercontent.com)|185.199.110.133|:443... connected.\n",
      "HTTP request sent, awaiting response... 200 OK\n",
      "Length: 5860 (5.7K) [text/plain]\n",
      "Saving to: ‘parse-faq.ipynb’\n",
      "\n",
      "parse-faq.ipynb     100%[===================>]   5.72K  --.-KB/s    in 0s      \n",
      "\n",
      "2025-04-29 04:23:15 (44.5 MB/s) - ‘parse-faq.ipynb’ saved [5860/5860]\n",
      "\n"
     ]
    }
   ],
   "source": [
    "!wget https://raw.githubusercontent.com/DataTalksClub/llm-zoomcamp/refs/heads/main/01-intro/parse-faq.ipynb"
   ]
  },
  {
   "cell_type": "code",
   "execution_count": 4,
   "id": "10d44b8b-a34d-4bf6-a4b8-0fe294afd6be",
   "metadata": {},
   "outputs": [
    {
     "name": "stdout",
     "output_type": "stream",
     "text": [
      "--2025-04-29 04:24:44--  https://raw.githubusercontent.com/DataTalksClub/llm-zoomcamp/refs/heads/main/01-intro/documents.json\n",
      "Resolving raw.githubusercontent.com (raw.githubusercontent.com)... 185.199.109.133, 185.199.110.133, 185.199.111.133, ...\n",
      "Connecting to raw.githubusercontent.com (raw.githubusercontent.com)|185.199.109.133|:443... connected.\n",
      "HTTP request sent, awaiting response... 200 OK\n",
      "Length: 658332 (643K) [text/plain]\n",
      "Saving to: ‘documents.json’\n",
      "\n",
      "documents.json      100%[===================>] 642.90K  --.-KB/s    in 0.02s   \n",
      "\n",
      "2025-04-29 04:24:44 (33.3 MB/s) - ‘documents.json’ saved [658332/658332]\n",
      "\n"
     ]
    }
   ],
   "source": [
    "!wget https://raw.githubusercontent.com/DataTalksClub/llm-zoomcamp/refs/heads/main/01-intro/documents.json"
   ]
  },
  {
   "cell_type": "code",
   "execution_count": 1,
   "id": "3c7ff7be-51b2-442e-ba6e-68b7154aff88",
   "metadata": {},
   "outputs": [],
   "source": [
    "import minsearch"
   ]
  },
  {
   "cell_type": "code",
   "execution_count": 2,
   "id": "bfb5cedc-00c9-47e6-8b12-0781d2f70120",
   "metadata": {},
   "outputs": [],
   "source": [
    "import json"
   ]
  },
  {
   "cell_type": "code",
   "execution_count": 3,
   "id": "ac512493-9f6d-4aad-80ae-319ca0f9cd76",
   "metadata": {},
   "outputs": [],
   "source": [
    "with open('documents.json', 'rt') as f_in:\n",
    "    docs_raw = json.load(f_in)"
   ]
  },
  {
   "cell_type": "code",
   "execution_count": 4,
   "id": "29bfdc32-c05b-4fca-a536-7ba6281a8ccf",
   "metadata": {},
   "outputs": [
    {
     "data": {
      "text/plain": [
       "dict_keys(['text', 'section', 'question'])"
      ]
     },
     "execution_count": 4,
     "metadata": {},
     "output_type": "execute_result"
    }
   ],
   "source": [
    "docs_raw[1]['documents'][0].keys()"
   ]
  },
  {
   "cell_type": "code",
   "execution_count": 5,
   "id": "0aa621dd-db9d-4834-852d-eac2981ec356",
   "metadata": {},
   "outputs": [],
   "source": [
    "#docs_raw[0]['documents'][0]"
   ]
  },
  {
   "cell_type": "code",
   "execution_count": 6,
   "id": "5d8e8b60-12cc-481b-8501-61fa61afbcd9",
   "metadata": {},
   "outputs": [],
   "source": [
    "documents = []\n",
    "\n",
    "for course_dict in docs_raw:\n",
    "    for doc in course_dict['documents']:\n",
    "        doc['course'] = course_dict['course']\n",
    "        documents.append(doc)"
   ]
  },
  {
   "cell_type": "code",
   "execution_count": 7,
   "id": "56ba8027-fed5-4ebb-8b19-bef94adcd228",
   "metadata": {},
   "outputs": [],
   "source": [
    "#documents[0]"
   ]
  },
  {
   "cell_type": "code",
   "execution_count": 8,
   "id": "af08bd98-88a0-40dd-9e40-4da107f0c3f6",
   "metadata": {},
   "outputs": [],
   "source": [
    "index = minsearch.Index(\n",
    "    text_fields=[\"question\", \"text\", \"section\"],\n",
    "    keyword_fields=[\"course\"]\n",
    ")"
   ]
  },
  {
   "cell_type": "code",
   "execution_count": 9,
   "id": "3d046adc-3d2b-41fa-94ba-6dae5cfb3a16",
   "metadata": {},
   "outputs": [],
   "source": [
    "q = 'the course has already started, can I still enroll?'"
   ]
  },
  {
   "cell_type": "code",
   "execution_count": 10,
   "id": "a5e62414-7b69-46ce-821d-2e67a22db224",
   "metadata": {},
   "outputs": [
    {
     "data": {
      "text/plain": [
       "<minsearch.Index at 0x7078078b2cf0>"
      ]
     },
     "execution_count": 10,
     "metadata": {},
     "output_type": "execute_result"
    }
   ],
   "source": [
    "index.fit(documents)"
   ]
  },
  {
   "cell_type": "code",
   "execution_count": 11,
   "id": "91c60e17-c731-477f-841d-81de8a0d81c3",
   "metadata": {},
   "outputs": [],
   "source": [
    "def search(query):\n",
    "    boost = {'question': 3.0, 'section': 0.5}\n",
    "\n",
    "    results = index.search(\n",
    "        query=query,\n",
    "        filter_dict={'course': 'data-engineering-zoomcamp'},\n",
    "        boost_dict=boost,\n",
    "        num_results=5\n",
    "    )\n",
    "    return results"
   ]
  },
  {
   "cell_type": "code",
   "execution_count": 12,
   "id": "45beb4ff-ce68-4179-86ab-544f0774d248",
   "metadata": {},
   "outputs": [],
   "source": [
    "res = search(q)"
   ]
  },
  {
   "cell_type": "code",
   "execution_count": 1,
   "id": "fc8eaaf4-945c-4905-a14d-bfed29a7e32e",
   "metadata": {},
   "outputs": [],
   "source": [
    "#res"
   ]
  },
  {
   "cell_type": "code",
   "execution_count": 13,
   "id": "17b69459-999d-4069-ac33-bab1aa180b57",
   "metadata": {},
   "outputs": [],
   "source": [
    "from openai import OpenAI"
   ]
  },
  {
   "cell_type": "code",
   "execution_count": 14,
   "id": "39a18d7d-47ca-49ca-ae0c-ecf636857cef",
   "metadata": {},
   "outputs": [],
   "source": [
    "client = OpenAI()"
   ]
  },
  {
   "cell_type": "code",
   "execution_count": 15,
   "id": "8969ae9f-6131-448d-bea6-c9dda581637a",
   "metadata": {},
   "outputs": [
    {
     "data": {
      "text/plain": [
       "\"It depends on the course and the institution offering it. Some courses may allow late enrollment, especially if only a short amount of time has passed since the start date. Others may have strict deadlines and do not permit new students to join after the course has begun.\\n\\nHere are some steps you can take:\\n\\n1. **Check the enrollment policy:** Visit the course website or contact the admissions office to see if late enrollment is possible.\\n2. **Contact the instructor or coordinator:** They may grant exceptions or provide advice on catching up if late enrollment is allowed.\\n3. **Consider the workload:** If you're allowed to join late, make sure you can catch up on missed materials and assignments.\\n\\nLet me know which course and institution you’re referring to for more specific guidance!\""
      ]
     },
     "execution_count": 15,
     "metadata": {},
     "output_type": "execute_result"
    }
   ],
   "source": [
    "response = client.chat.completions.create(\n",
    "    model='gpt-4.1',\n",
    "    messages=[{\"role\": \"user\", \"content\": q}]\n",
    ")\n",
    "response.choices[0].message.content"
   ]
  },
  {
   "cell_type": "code",
   "execution_count": 29,
   "id": "c070c8be-0eaa-433c-b740-81d94809b184",
   "metadata": {},
   "outputs": [],
   "source": [
    "prompt_template = \"\"\"\n",
    "You're a course teaching assistant. Answer the QUESTION based on the CONTEXT from the FAQ database.\n",
    "Use only the facts from the CONTEXT when answering the QUESTION.\n",
    "\n",
    "QUESTION: {question}\n",
    "\n",
    "CONTEXT: \n",
    "{context}\n",
    "\"\"\".strip()"
   ]
  },
  {
   "cell_type": "code",
   "execution_count": 16,
   "id": "3b1dee60-9ec1-470f-a754-6ae4af50cbfe",
   "metadata": {},
   "outputs": [],
   "source": [
    "#prompt_template"
   ]
  },
  {
   "cell_type": "code",
   "execution_count": 23,
   "id": "9d4099e9-205e-451c-b621-7d5592a6c4c1",
   "metadata": {},
   "outputs": [],
   "source": [
    "context = \"\"\n",
    "for doc in res:\n",
    "    context = context + f\"section: {doc['section']}\\nquestion: {doc['question']}\\nanswer: {doc['text']}\\n\\n\""
   ]
  },
  {
   "cell_type": "code",
   "execution_count": 24,
   "id": "9f02b8af-ad8a-4067-a149-16ccc58c4ea5",
   "metadata": {},
   "outputs": [],
   "source": [
    "#print(context)"
   ]
  },
  {
   "cell_type": "code",
   "execution_count": 25,
   "id": "ff33ac9f-6bc6-47a5-8dab-09c2c78baec5",
   "metadata": {},
   "outputs": [],
   "source": [
    "prompt = prompt_template.format(question=q, context=context).strip()"
   ]
  },
  {
   "cell_type": "code",
   "execution_count": 26,
   "id": "94fc4a93-3588-49e1-b531-a06e9307ed60",
   "metadata": {},
   "outputs": [],
   "source": [
    "#print(prompt)"
   ]
  },
  {
   "cell_type": "code",
   "execution_count": 27,
   "id": "4f856b53-8d39-4693-ad5c-8d36576d51fa",
   "metadata": {},
   "outputs": [],
   "source": [
    "response = client.chat.completions.create(\n",
    "        model='gpt-4.1',\n",
    "        messages=[{\"role\": \"user\", \"content\": prompt}]\n",
    "    )"
   ]
  },
  {
   "cell_type": "code",
   "execution_count": 28,
   "id": "1928889c-17b1-4554-9368-f0810326ba74",
   "metadata": {},
   "outputs": [
    {
     "data": {
      "text/plain": [
       "\"Yes, you can still enroll even after the course has started. You are eligible to submit the homeworks even if you register late or don't register at all. However, please note that there will be deadlines for turning in the final projects, so make sure not to leave everything for the last minute.\""
      ]
     },
     "execution_count": 28,
     "metadata": {},
     "output_type": "execute_result"
    }
   ],
   "source": [
    "response.choices[0].message.content"
   ]
  },
  {
   "cell_type": "code",
   "execution_count": null,
   "id": "2bb806ad-84f6-443a-8435-f1e129de0bb1",
   "metadata": {},
   "outputs": [],
   "source": []
  },
  {
   "cell_type": "markdown",
   "id": "ddc699a8-57a9-48ee-8742-784e4c11d6f8",
   "metadata": {},
   "source": [
    "## modularize the code  above## "
   ]
  },
  {
   "cell_type": "code",
   "execution_count": null,
   "id": "a7d48699-bd2d-4957-8469-f70768c779e5",
   "metadata": {},
   "outputs": [],
   "source": []
  },
  {
   "cell_type": "code",
   "execution_count": null,
   "id": "553bb00c-7ca7-4b84-8d47-242e1d2f5073",
   "metadata": {},
   "outputs": [],
   "source": []
  },
  {
   "cell_type": "code",
   "execution_count": null,
   "id": "3f82af36-4754-4d10-905e-a9e3c7654197",
   "metadata": {},
   "outputs": [],
   "source": []
  },
  {
   "cell_type": "code",
   "execution_count": 42,
   "id": "b7979170-cf26-4810-b6ff-9323539cf404",
   "metadata": {},
   "outputs": [],
   "source": [
    "def build_prompt(query, search_results):\n",
    "    prompt_template = \"\"\"\n",
    "You're a course teaching assistant. Answer the QUESTION based on the CONTEXT from the FAQ database.\n",
    "Use only the facts from the CONTEXT when answering the QUESTION.\n",
    "\n",
    "QUESTION: {question}\n",
    "\n",
    "CONTEXT: \n",
    "{context}\n",
    "\"\"\".strip()\n",
    "\n",
    "    context = \"\"\n",
    "    \n",
    "    for doc in search_results:\n",
    "        context = context + f\"section: {doc['section']}\\nquestion: {doc['question']}\\nanswer: {doc['text']}\\n\\n\"\n",
    "    \n",
    "    prompt = prompt_template.format(question=query, context=context).strip()\n",
    "    return prompt"
   ]
  },
  {
   "cell_type": "code",
   "execution_count": 43,
   "id": "b747427e-69a1-4724-9b8c-0459c00b6fd7",
   "metadata": {},
   "outputs": [],
   "source": [
    "def llm(prompt):\n",
    "    response = client.chat.completions.create(\n",
    "        model='gpt-4o',\n",
    "        messages=[{\"role\": \"user\", \"content\": prompt}]\n",
    "    )\n",
    "    \n",
    "    return response.choices[0].message.content"
   ]
  },
  {
   "cell_type": "code",
   "execution_count": 44,
   "id": "308618a6-a5c7-4124-999a-184547313ca7",
   "metadata": {},
   "outputs": [],
   "source": [
    "query = 'the course has already started, can I still enroll?'\n",
    "\n",
    "def rag(query):\n",
    "    search_results = search(query)\n",
    "    prompt = build_prompt(query, search_results)\n",
    "    answer = llm(prompt)\n",
    "    return answer"
   ]
  },
  {
   "cell_type": "code",
   "execution_count": 45,
   "id": "e8359332-eeed-45b2-94d9-10091f4812b1",
   "metadata": {},
   "outputs": [
    {
     "data": {
      "text/plain": [
       "'Yes, you can still enroll in the course even if it has already started. You are also eligible to submit the homework assignments, but keep in mind the deadlines for turning in the final projects to avoid last-minute submissions.'"
      ]
     },
     "execution_count": 45,
     "metadata": {},
     "output_type": "execute_result"
    }
   ],
   "source": [
    "rag(query)"
   ]
  },
  {
   "cell_type": "code",
   "execution_count": 47,
   "id": "2b24a493-096e-4a55-b623-86ffffb71c95",
   "metadata": {},
   "outputs": [
    {
     "data": {
      "text/plain": [
       "'To run Kafka in a Java project, you can execute the following command in the project directory:\\n\\n```sh\\njava -cp build/libs/<jar_name>-1.0-SNAPSHOT.jar:out src/main/java/org/example/JsonProducer.java\\n```'"
      ]
     },
     "execution_count": 47,
     "metadata": {},
     "output_type": "execute_result"
    }
   ],
   "source": [
    "rag('how do I run kafka?')"
   ]
  },
  {
   "cell_type": "code",
   "execution_count": null,
   "id": "9608c4ce-e660-40a0-8ed4-5cded881f793",
   "metadata": {},
   "outputs": [],
   "source": []
  }
 ],
 "metadata": {
  "kernelspec": {
   "display_name": "Python 3 (ipykernel)",
   "language": "python",
   "name": "python3"
  },
  "language_info": {
   "codemirror_mode": {
    "name": "ipython",
    "version": 3
   },
   "file_extension": ".py",
   "mimetype": "text/x-python",
   "name": "python",
   "nbconvert_exporter": "python",
   "pygments_lexer": "ipython3",
   "version": "3.12.1"
  }
 },
 "nbformat": 4,
 "nbformat_minor": 5
}
