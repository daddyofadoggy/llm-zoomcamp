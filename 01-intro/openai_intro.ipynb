{
 "cells": [
  {
   "cell_type": "code",
   "execution_count": 1,
   "id": "53270e22-672d-4e61-92ec-573235fc513b",
   "metadata": {},
   "outputs": [],
   "source": [
    "import openai"
   ]
  },
  {
   "cell_type": "code",
   "execution_count": 2,
   "id": "2120aec6-953a-4cb2-aa04-366a92fcc2bc",
   "metadata": {},
   "outputs": [],
   "source": [
    "from openai import OpenAI"
   ]
  },
  {
   "cell_type": "code",
   "execution_count": 3,
   "id": "3838fe6e-05a3-4fe7-b07e-a727e5976dfa",
   "metadata": {},
   "outputs": [],
   "source": [
    "client = OpenAI()"
   ]
  },
  {
   "cell_type": "code",
   "execution_count": 5,
   "id": "66005fd5-0f3b-4786-a70d-401154f90306",
   "metadata": {},
   "outputs": [],
   "source": [
    "response = client.chat.completions.create(\n",
    "    model = 'gpt-4o',\n",
    "    messages = [{\"role\":\"user\", \"content\":\"is it too late to join the course?\"}]\n",
    ")"
   ]
  },
  {
   "cell_type": "code",
   "execution_count": 6,
   "id": "dc24c632-0d64-4fae-b96a-d1c735c1c9b6",
   "metadata": {},
   "outputs": [
    {
     "data": {
      "text/plain": [
       "ChatCompletion(id='chatcmpl-BRVxfDG7u5cWw1ZJ6HWaeDxyNnmJS', choices=[Choice(finish_reason='stop', index=0, logprobs=None, message=ChatCompletionMessage(content=\"Whether it's too late to join a course depends on several factors, such as the specific course you're interested in, its enrollment deadlines, and the start date. Here are a few steps you can take to determine if you can still join:\\n\\n1. **Check Enrollment Deadlines**: Look at the course information on the website or brochure to see the official enrollment deadline.\\n\\n2. **Contact the Instructor or Institution**: Reach out to the course instructor or the administrative office to inquire about any remaining spots or late enrollment policies.\\n\\n3. **Assess the Course Progress**: If the course has already started, consider how far along it is. Some courses may allow late enrollment if only a small portion has been missed.\\n\\n4. **Understand the Impact**: If you are able to join late, think about how much material you'll need to catch up on and whether you can manage it.\\n\\n5. **Explore Alternatives**: If joining the course isn't feasible, ask about future sessions or alternative courses that might be available.\\n\\nTaking these steps will help you determine your options regarding joining the course.\", refusal=None, role='assistant', annotations=[], audio=None, function_call=None, tool_calls=None))], created=1745897415, model='gpt-4o-2024-08-06', object='chat.completion', service_tier='default', system_fingerprint='fp_d8864f8b6b', usage=CompletionUsage(completion_tokens=217, prompt_tokens=16, total_tokens=233, completion_tokens_details=CompletionTokensDetails(accepted_prediction_tokens=0, audio_tokens=0, reasoning_tokens=0, rejected_prediction_tokens=0), prompt_tokens_details=PromptTokensDetails(audio_tokens=0, cached_tokens=0)))"
      ]
     },
     "execution_count": 6,
     "metadata": {},
     "output_type": "execute_result"
    }
   ],
   "source": [
    "response"
   ]
  },
  {
   "cell_type": "code",
   "execution_count": 9,
   "id": "d4ac2908-7d80-4ceb-a126-858198724bc1",
   "metadata": {},
   "outputs": [
    {
     "data": {
      "text/plain": [
       "\"Whether it's too late to join a course depends on several factors, such as the specific course you're interested in, its enrollment deadlines, and the start date. Here are a few steps you can take to determine if you can still join:\\n\\n1. **Check Enrollment Deadlines**: Look at the course information on the website or brochure to see the official enrollment deadline.\\n\\n2. **Contact the Instructor or Institution**: Reach out to the course instructor or the administrative office to inquire about any remaining spots or late enrollment policies.\\n\\n3. **Assess the Course Progress**: If the course has already started, consider how far along it is. Some courses may allow late enrollment if only a small portion has been missed.\\n\\n4. **Understand the Impact**: If you are able to join late, think about how much material you'll need to catch up on and whether you can manage it.\\n\\n5. **Explore Alternatives**: If joining the course isn't feasible, ask about future sessions or alternative courses that might be available.\\n\\nTaking these steps will help you determine your options regarding joining the course.\""
      ]
     },
     "execution_count": 9,
     "metadata": {},
     "output_type": "execute_result"
    }
   ],
   "source": [
    "response.choices[0].message.content"
   ]
  },
  {
   "cell_type": "code",
   "execution_count": 10,
   "id": "423fed70-0587-4e49-8914-6e9c22c4d4a2",
   "metadata": {},
   "outputs": [],
   "source": [
    "response = client.chat.completions.create(\n",
    "    model = 'gpt-4o',\n",
    "    messages = [{\"role\":\"user\", \"content\":\"lookup google and tell me is it too late to join the LLM Zoomcamp course?\"}]\n",
    ")"
   ]
  },
  {
   "cell_type": "code",
   "execution_count": 11,
   "id": "dd3b755b-bd52-4398-ae2a-9f9a52c354e0",
   "metadata": {},
   "outputs": [
    {
     "data": {
      "text/plain": [
       "\"I don’t have real-time access to the internet, including current events or specific course enrollment details. To find out if it's too late to join the LLM Zoomcamp course, I recommend visiting the course's official website or contacting the organizers directly for the most accurate and up-to-date information. They would provide details about enrollment deadlines and course availability.\""
      ]
     },
     "execution_count": 11,
     "metadata": {},
     "output_type": "execute_result"
    }
   ],
   "source": [
    "response.choices[0].message.content"
   ]
  },
  {
   "cell_type": "code",
   "execution_count": 13,
   "id": "9eaed89d-964a-4866-8a2f-dae7a495c4ab",
   "metadata": {},
   "outputs": [],
   "source": [
    "response = client.chat.completions.create(\n",
    "    model = 'gpt-4.1',\n",
    "    messages = [{\"role\":\"user\", \"content\":\"lookup google and tell me is it too late to join the LLM Zoomcamp course?\"}]\n",
    ")"
   ]
  },
  {
   "cell_type": "code",
   "execution_count": 14,
   "id": "d03ac840-ac8f-4bbd-82f3-d8f97706d9de",
   "metadata": {},
   "outputs": [
    {
     "data": {
      "text/plain": [
       "'As of **June 2024**, according to the [official LLM Zoomcamp GitHub page](https://github.com/DataTalksClub/llm-zoomcamp) and their [Discord community](https://discord.gg/rNwXVq7Eem):\\n\\n- **Live cohort for 2024 began on May 13, 2024.** The main live sessions, homework reviews, and deadlines are tailored to that schedule.\\n- **However, all course materials, recordings, and assignments are freely available online.** You can still join the Discord, follow the course at your own pace, and participate in community discussions.\\n- *The only limitation:* If you wanted to participate in the official certificate track, submit assignments for deadline-based evaluation, or take part in live Q&A, you might have missed some deadlines.\\n\\n**Summary:**  \\nIt’s NOT too late to join and learn from the course. You can access everything and work at your own pace. You may have missed the live cohort’s certificate deadlines, but you can still benefit greatly from the content and community.'"
      ]
     },
     "execution_count": 14,
     "metadata": {},
     "output_type": "execute_result"
    }
   ],
   "source": [
    "response.choices[0].message.content"
   ]
  },
  {
   "cell_type": "code",
   "execution_count": null,
   "id": "fc4d5e5e-eb6d-48e5-80c3-36f3fa900c1b",
   "metadata": {},
   "outputs": [],
   "source": []
  }
 ],
 "metadata": {
  "kernelspec": {
   "display_name": "Python 3 (ipykernel)",
   "language": "python",
   "name": "python3"
  },
  "language_info": {
   "codemirror_mode": {
    "name": "ipython",
    "version": 3
   },
   "file_extension": ".py",
   "mimetype": "text/x-python",
   "name": "python",
   "nbconvert_exporter": "python",
   "pygments_lexer": "ipython3",
   "version": "3.12.1"
  }
 },
 "nbformat": 4,
 "nbformat_minor": 5
}
