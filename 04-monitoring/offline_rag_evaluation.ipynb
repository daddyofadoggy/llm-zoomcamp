{
 "cells": [
  {
   "cell_type": "markdown",
   "id": "a2d544c2-63a1-4ade-8964-388316400661",
   "metadata": {},
   "source": [
    "## Load documents with IDs ##"
   ]
  },
  {
   "cell_type": "code",
   "execution_count": 3,
   "id": "2e4ef236-2c67-431a-98a1-ab020a730e20",
   "metadata": {},
   "outputs": [],
   "source": [
    "filepath = './data/documents-with-ids.json'"
   ]
  },
  {
   "cell_type": "code",
   "execution_count": 6,
   "id": "31d37c5d-0b46-4e25-83da-03fe09eafa6f",
   "metadata": {},
   "outputs": [],
   "source": [
    "import json\n",
    "with open(filepath, 'r') as f:\n",
    "    documents = json.load(f)"
   ]
  },
  {
   "cell_type": "code",
   "execution_count": 7,
   "id": "18c0b5e8-9333-4e53-a3d3-5d3770ec8846",
   "metadata": {},
   "outputs": [
    {
     "data": {
      "text/plain": [
       "{'text': 'It depends on your background and previous experience with modules. It is expected to require about 5 - 15 hours per week. [source1] [source2]\\nYou can also calculate it yourself using this data and then update this answer.',\n",
       " 'section': 'General course-related questions',\n",
       " 'question': 'Course - \\u200b\\u200bHow many hours per week am I expected to spend on this  course?',\n",
       " 'course': 'data-engineering-zoomcamp',\n",
       " 'id': 'ea739c65'}"
      ]
     },
     "execution_count": 7,
     "metadata": {},
     "output_type": "execute_result"
    }
   ],
   "source": [
    "documents[10]"
   ]
  },
  {
   "cell_type": "code",
   "execution_count": 8,
   "id": "95000441-00c4-40c0-bd06-5a1ff28ab16f",
   "metadata": {},
   "outputs": [
    {
     "data": {
      "text/plain": [
       "{'text': \"No, you can only get a certificate if you finish the course with a “live” cohort. We don't award certificates for the self-paced mode. The reason is you need to peer-review capstone(s) after submitting a project. You can only peer-review projects at the time the course is running.\",\n",
       " 'section': 'General course-related questions',\n",
       " 'question': 'Certificate - Can I follow the course in a self-paced mode and get a certificate?',\n",
       " 'course': 'data-engineering-zoomcamp',\n",
       " 'id': 'cb257ee5'}"
      ]
     },
     "execution_count": 8,
     "metadata": {},
     "output_type": "execute_result"
    }
   ],
   "source": [
    "documents[11]"
   ]
  },
  {
   "cell_type": "code",
   "execution_count": 11,
   "id": "91707dea-87d4-4bca-86ce-f58eaf727e71",
   "metadata": {},
   "outputs": [],
   "source": [
    "import pandas as pd\n",
    "filepath = './data/ground-truth-data.csv'\n",
    "df_ground_truth = pd.read_csv(filepath)\n",
    "df_ground_truth = df_ground_truth[df_ground_truth.course == 'machine-learning-zoomcamp']\n",
    "ground_truth = df_ground_truth.to_dict(orient='records')"
   ]
  },
  {
   "cell_type": "code",
   "execution_count": 12,
   "id": "1c5f9b87-e77a-4681-b179-99542784c608",
   "metadata": {},
   "outputs": [
    {
     "data": {
      "text/plain": [
       "{'question': 'Are sessions recorded if I miss one?',\n",
       " 'course': 'machine-learning-zoomcamp',\n",
       " 'document': '5170565b'}"
      ]
     },
     "execution_count": 12,
     "metadata": {},
     "output_type": "execute_result"
    }
   ],
   "source": [
    "ground_truth[10]"
   ]
  },
  {
   "cell_type": "code",
   "execution_count": 13,
   "id": "f60bec8d-c45b-40f9-bae4-5d631ced26a5",
   "metadata": {},
   "outputs": [
    {
     "data": {
      "text/plain": [
       "'Everything is recorded, so you won’t miss anything. You will be able to ask your questions for office hours in advance and we will cover them during the live stream. Also, you can always ask questions in Slack.'"
      ]
     },
     "execution_count": 13,
     "metadata": {},
     "output_type": "execute_result"
    }
   ],
   "source": [
    "doc_idx = {d['id']: d for d in documents}\n",
    "doc_idx['5170565b']['text']"
   ]
  },
  {
   "cell_type": "code",
   "execution_count": 14,
   "id": "d2689072-6999-4700-b9c7-54dc19b4ea31",
   "metadata": {},
   "outputs": [
    {
     "data": {
      "text/plain": [
       "{'text': 'Everything is recorded, so you won’t miss anything. You will be able to ask your questions for office hours in advance and we will cover them during the live stream. Also, you can always ask questions in Slack.',\n",
       " 'section': 'General course-related questions',\n",
       " 'question': 'What if I miss a session?',\n",
       " 'course': 'machine-learning-zoomcamp',\n",
       " 'id': '5170565b'}"
      ]
     },
     "execution_count": 14,
     "metadata": {},
     "output_type": "execute_result"
    }
   ],
   "source": [
    "doc_idx['5170565b']"
   ]
  },
  {
   "cell_type": "markdown",
   "id": "7300e891-9543-4df4-8be5-56c84ba133d5",
   "metadata": {},
   "source": [
    "## Index Data ## "
   ]
  },
  {
   "cell_type": "code",
   "execution_count": 15,
   "id": "0400f7b1-d87b-425f-be63-ed2781d31978",
   "metadata": {},
   "outputs": [
    {
     "name": "stderr",
     "output_type": "stream",
     "text": [
      "/Users/ron/Documents/github/myenv/lib/python3.9/site-packages/urllib3/__init__.py:35: NotOpenSSLWarning: urllib3 v2 only supports OpenSSL 1.1.1+, currently the 'ssl' module is compiled with 'LibreSSL 2.8.3'. See: https://github.com/urllib3/urllib3/issues/3020\n",
      "  warnings.warn(\n"
     ]
    }
   ],
   "source": [
    "from sentence_transformers import SentenceTransformer\n",
    "\n",
    "model_name = 'multi-qa-MiniLM-L6-cos-v1'\n",
    "model = SentenceTransformer(model_name)"
   ]
  },
  {
   "cell_type": "code",
   "execution_count": 16,
   "id": "29d965ba-b1f7-475e-becd-a0872891d897",
   "metadata": {},
   "outputs": [
    {
     "data": {
      "text/plain": [
       "ObjectApiResponse({'acknowledged': True, 'shards_acknowledged': True, 'index': 'course-questions'})"
      ]
     },
     "execution_count": 16,
     "metadata": {},
     "output_type": "execute_result"
    }
   ],
   "source": [
    "from elasticsearch import Elasticsearch\n",
    "\n",
    "es_client = Elasticsearch('http://localhost:9200') \n",
    "\n",
    "index_settings = {\n",
    "    \"settings\": {\n",
    "        \"number_of_shards\": 1,\n",
    "        \"number_of_replicas\": 0\n",
    "    },\n",
    "    \"mappings\": {\n",
    "        \"properties\": {\n",
    "            \"text\": {\"type\": \"text\"},\n",
    "            \"section\": {\"type\": \"text\"},\n",
    "            \"question\": {\"type\": \"text\"},\n",
    "            \"course\": {\"type\": \"keyword\"},\n",
    "            \"id\": {\"type\": \"keyword\"},\n",
    "            \"question_text_vector\": {\n",
    "                \"type\": \"dense_vector\",\n",
    "                \"dims\": 384,\n",
    "                \"index\": True,\n",
    "                \"similarity\": \"cosine\"\n",
    "            },\n",
    "        }\n",
    "    }\n",
    "}\n",
    "\n",
    "index_name = \"course-questions\"\n",
    "\n",
    "es_client.indices.delete(index=index_name, ignore_unavailable=True)\n",
    "es_client.indices.create(index=index_name, body=index_settings)"
   ]
  },
  {
   "cell_type": "code",
   "execution_count": 17,
   "id": "6e1448e9-67a7-47f1-87a8-48c2f7b08421",
   "metadata": {},
   "outputs": [
    {
     "data": {
      "application/vnd.jupyter.widget-view+json": {
       "model_id": "db0c05e4816f43cb8a4e12e6c31915ee",
       "version_major": 2,
       "version_minor": 0
      },
      "text/plain": [
       "  0%|          | 0/948 [00:00<?, ?it/s]"
      ]
     },
     "metadata": {},
     "output_type": "display_data"
    }
   ],
   "source": [
    "from tqdm.auto import tqdm\n",
    "\n",
    "for doc in tqdm(documents):\n",
    "    question = doc['question']\n",
    "    text = doc['text']\n",
    "    doc['question_text_vector'] = model.encode(question + ' ' + text)\n",
    "\n",
    "    es_client.index(index=index_name, document=doc)"
   ]
  },
  {
   "cell_type": "markdown",
   "id": "0901f8fa-8410-4347-a971-62f0a921b181",
   "metadata": {},
   "source": [
    "## Retrieval ##"
   ]
  },
  {
   "cell_type": "code",
   "execution_count": 18,
   "id": "206f9efe-e957-4823-b458-7f4bcf01380d",
   "metadata": {},
   "outputs": [],
   "source": [
    "def elastic_search_knn(field, vector, course):\n",
    "    knn = {\n",
    "        \"field\": field,\n",
    "        \"query_vector\": vector,\n",
    "        \"k\": 5,\n",
    "        \"num_candidates\": 10000,\n",
    "        \"filter\": {\n",
    "            \"term\": {\n",
    "                \"course\": course\n",
    "            }\n",
    "        }\n",
    "    }\n",
    "\n",
    "    search_query = {\n",
    "        \"knn\": knn,\n",
    "        \"_source\": [\"text\", \"section\", \"question\", \"course\", \"id\"]\n",
    "    }\n",
    "\n",
    "    es_results = es_client.search(\n",
    "        index=index_name,\n",
    "        body=search_query\n",
    "    )\n",
    "    \n",
    "    result_docs = []\n",
    "    \n",
    "    for hit in es_results['hits']['hits']:\n",
    "        result_docs.append(hit['_source'])\n",
    "\n",
    "    return result_docs\n",
    "\n",
    "def question_text_vector_knn(q):\n",
    "    question = q['question']\n",
    "    course = q['course']\n",
    "\n",
    "    v_q = model.encode(question)\n",
    "\n",
    "    return elastic_search_knn('question_text_vector', v_q, course)"
   ]
  },
  {
   "cell_type": "code",
   "execution_count": 19,
   "id": "b8757584-a897-46f1-a27b-0ff6a0628238",
   "metadata": {},
   "outputs": [
    {
     "data": {
      "text/plain": [
       "[{'text': 'Everything is recorded, so you won’t miss anything. You will be able to ask your questions for office hours in advance and we will cover them during the live stream. Also, you can always ask questions in Slack.',\n",
       "  'section': 'General course-related questions',\n",
       "  'question': 'What if I miss a session?',\n",
       "  'course': 'machine-learning-zoomcamp',\n",
       "  'id': '5170565b'},\n",
       " {'text': 'The course videos are pre-recorded, you can start watching the course right now.\\nWe will also occasionally have office hours - live sessions where we will answer your questions. The office hours sessions are recorded too.\\nYou can see the office hours as well as the pre-recorded course videos in the course playlist on YouTube.',\n",
       "  'section': 'General course-related questions',\n",
       "  'question': 'Is it going to be live? When?',\n",
       "  'course': 'machine-learning-zoomcamp',\n",
       "  'id': '39fda9f0'},\n",
       " {'text': '(Hrithik Kumar Advani)',\n",
       "  'section': '2. Machine Learning for Regression',\n",
       "  'question': 'Useful Resource for Missing Data Treatment\\nhttps://www.kaggle.com/code/parulpandey/a-guide-to-handling-missing-values-in-python/notebook',\n",
       "  'course': 'machine-learning-zoomcamp',\n",
       "  'id': '81b8e8d0'},\n",
       " {'text': \"Problem description\\nThe accuracy and the loss are both still the same or nearly the same while training.\\nSolution description\\nIn the homework, you should set class_mode='binary' while reading the data.\\nAlso, problem occurs when you choose the wrong optimizer, batch size, or learning rate\\nAdded by Ekaterina Kutovaia\",\n",
       "  'section': '8. Neural Networks and Deep Learning',\n",
       "  'question': 'The same accuracy on epochs',\n",
       "  'course': 'machine-learning-zoomcamp',\n",
       "  'id': '7d11d5ce'},\n",
       " {'text': \"Yes, it's possible. See the previous answer.\",\n",
       "  'section': 'General course-related questions',\n",
       "  'question': 'Will I get a certificate if I missed the midterm project?',\n",
       "  'course': 'machine-learning-zoomcamp',\n",
       "  'id': '1d644223'}]"
      ]
     },
     "execution_count": 19,
     "metadata": {},
     "output_type": "execute_result"
    }
   ],
   "source": [
    "question_text_vector_knn(dict(\n",
    "    question='Are sessions recorded if I miss one?',\n",
    "    course='machine-learning-zoomcamp'\n",
    "))"
   ]
  },
  {
   "cell_type": "markdown",
   "id": "b1949860-480f-4e7e-8398-a19a1996164f",
   "metadata": {},
   "source": [
    "## The RAG Flow ##"
   ]
  },
  {
   "cell_type": "code",
   "execution_count": 20,
   "id": "53e24828-737d-4c28-b2ba-ae57723dde83",
   "metadata": {},
   "outputs": [],
   "source": [
    "def build_prompt(query, search_results):\n",
    "    prompt_template = \"\"\"\n",
    "You're a course teaching assistant. Answer the QUESTION based on the CONTEXT from the FAQ database.\n",
    "Use only the facts from the CONTEXT when answering the QUESTION.\n",
    "\n",
    "QUESTION: {question}\n",
    "\n",
    "CONTEXT: \n",
    "{context}\n",
    "\"\"\".strip()\n",
    "\n",
    "    context = \"\"\n",
    "    \n",
    "    for doc in search_results:\n",
    "        context = context + f\"section: {doc['section']}\\nquestion: {doc['question']}\\nanswer: {doc['text']}\\n\\n\"\n",
    "    \n",
    "    prompt = prompt_template.format(question=query, context=context).strip()\n",
    "    return prompt"
   ]
  },
  {
   "cell_type": "code",
   "execution_count": 22,
   "id": "bdbe71a6-be1b-437a-831c-59a427c1879e",
   "metadata": {},
   "outputs": [],
   "source": [
    "import os\n",
    "import getpass\n",
    "#os.environ"
   ]
  },
  {
   "cell_type": "code",
   "execution_count": 23,
   "id": "abe73218-0931-41a9-a92e-b417060a626b",
   "metadata": {},
   "outputs": [
    {
     "name": "stdin",
     "output_type": "stream",
     "text": [
      "OPENAI API key:\n",
      " ········\n"
     ]
    }
   ],
   "source": [
    "if not os.environ.get(\"OPENAI_API_KEY\"):\n",
    "    os.environ[\"OPENAI_API_KEY\"] = getpass.getpass(\"OPENAI API key:\\n\")"
   ]
  },
  {
   "cell_type": "code",
   "execution_count": 24,
   "id": "1ca80f1a-92d5-4c55-8c58-f31c754099c6",
   "metadata": {},
   "outputs": [],
   "source": [
    "from openai import OpenAI\n",
    "\n",
    "client = OpenAI()\n",
    "\n",
    "def llm(prompt, model='gpt-4o'):\n",
    "    response = client.chat.completions.create(\n",
    "        model=model,\n",
    "        messages=[{\"role\": \"user\", \"content\": prompt}]\n",
    "    )\n",
    "    \n",
    "    return response.choices[0].message.content"
   ]
  },
  {
   "cell_type": "code",
   "execution_count": 25,
   "id": "d2131be4-c1a5-4ba5-a715-6df0815ceea3",
   "metadata": {},
   "outputs": [],
   "source": [
    "# previously: rag(query: str) -> str\n",
    "def rag(query: dict, model='gpt-4o') -> str:\n",
    "    search_results = question_text_vector_knn(query)\n",
    "    prompt = build_prompt(query['question'], search_results)\n",
    "    answer = llm(prompt, model=model)\n",
    "    return answer"
   ]
  },
  {
   "cell_type": "code",
   "execution_count": 26,
   "id": "466ca4b4-cd54-4f6e-ad2c-63b4156316a2",
   "metadata": {},
   "outputs": [
    {
     "data": {
      "text/plain": [
       "{'question': 'Are sessions recorded if I miss one?',\n",
       " 'course': 'machine-learning-zoomcamp',\n",
       " 'document': '5170565b'}"
      ]
     },
     "execution_count": 26,
     "metadata": {},
     "output_type": "execute_result"
    }
   ],
   "source": [
    "ground_truth[10]"
   ]
  },
  {
   "cell_type": "code",
   "execution_count": 27,
   "id": "e2fdf024-ba83-434e-906d-b2d8f097956f",
   "metadata": {},
   "outputs": [
    {
     "data": {
      "text/plain": [
       "'Yes, sessions are recorded, so you won’t miss anything if you miss one. You can watch the recordings and ask any questions in advance for office hours, which will be covered during the live stream. Additionally, you can ask questions on Slack.'"
      ]
     },
     "execution_count": 27,
     "metadata": {},
     "output_type": "execute_result"
    }
   ],
   "source": [
    "rag(ground_truth[10])"
   ]
  },
  {
   "cell_type": "code",
   "execution_count": 28,
   "id": "c2891b81-c873-42bc-979f-e3a65eadd3c9",
   "metadata": {},
   "outputs": [
    {
     "data": {
      "text/plain": [
       "'Everything is recorded, so you won’t miss anything. You will be able to ask your questions for office hours in advance and we will cover them during the live stream. Also, you can always ask questions in Slack.'"
      ]
     },
     "execution_count": 28,
     "metadata": {},
     "output_type": "execute_result"
    }
   ],
   "source": [
    "doc_idx['5170565b']['text']"
   ]
  },
  {
   "cell_type": "markdown",
   "id": "1f44a54b-973a-430b-ad09-46e83358d352",
   "metadata": {},
   "source": [
    "## Cosine similarity metric ##"
   ]
  },
  {
   "cell_type": "code",
   "execution_count": 30,
   "id": "35a32c97-8da9-40f1-bbd7-638af6c775b9",
   "metadata": {},
   "outputs": [
    {
     "data": {
      "text/plain": [
       "np.float32(0.7591172)"
      ]
     },
     "execution_count": 30,
     "metadata": {},
     "output_type": "execute_result"
    }
   ],
   "source": [
    "answer_orig = 'Yes, sessions are recorded if you miss one. Everything is recorded, allowing you to catch up on any missed content. Additionally, you can ask questions in advance for office hours and have them addressed during the live stream. You can also ask questions in Slack.'\n",
    "answer_llm = 'Everything is recorded, so you won’t miss anything. You will be able to ask your questions for office hours in advance and we will cover them during the live stream. Also, you can always ask questions in Slack.'\n",
    "\n",
    "v_llm = model.encode(answer_llm)\n",
    "v_orig = model.encode(answer_orig)\n",
    "\n",
    "v_llm.dot(v_orig)"
   ]
  },
  {
   "cell_type": "code",
   "execution_count": 31,
   "id": "5b3e8bfc-8370-4059-8380-607c87f2dc26",
   "metadata": {},
   "outputs": [
    {
     "data": {
      "text/plain": [
       "{'question': 'Where can I sign up for the course?',\n",
       " 'course': 'machine-learning-zoomcamp',\n",
       " 'document': '0227b872'}"
      ]
     },
     "execution_count": 31,
     "metadata": {},
     "output_type": "execute_result"
    }
   ],
   "source": [
    "ground_truth[0]"
   ]
  },
  {
   "cell_type": "code",
   "execution_count": 32,
   "id": "4bdb9f5a-2058-413d-acc6-67a1a239e1b8",
   "metadata": {},
   "outputs": [
    {
     "data": {
      "text/plain": [
       "1830"
      ]
     },
     "execution_count": 32,
     "metadata": {},
     "output_type": "execute_result"
    }
   ],
   "source": [
    "len(ground_truth)"
   ]
  },
  {
   "cell_type": "code",
   "execution_count": 33,
   "id": "8e86cd02-54f0-4cb4-b85d-25c0e164e84e",
   "metadata": {},
   "outputs": [],
   "source": [
    "ground_truth_dummy = ground_truth[0:75]"
   ]
  },
  {
   "cell_type": "code",
   "execution_count": 34,
   "id": "f37cf81c-1838-4293-8ccc-ac9d5c29dd53",
   "metadata": {},
   "outputs": [
    {
     "data": {
      "text/plain": [
       "{'question': 'Where can I sign up for the course?',\n",
       " 'course': 'machine-learning-zoomcamp',\n",
       " 'document': '0227b872'}"
      ]
     },
     "execution_count": 34,
     "metadata": {},
     "output_type": "execute_result"
    }
   ],
   "source": [
    "ground_truth_dummy[0]"
   ]
  },
  {
   "cell_type": "code",
   "execution_count": 35,
   "id": "47aa46dd-fcc4-48c8-bd21-2fe7e8557a32",
   "metadata": {},
   "outputs": [
    {
     "data": {
      "text/plain": [
       "{'question': 'Can I submit homework if I join the course after it has started?',\n",
       " 'course': 'machine-learning-zoomcamp',\n",
       " 'document': 'ee58a693'}"
      ]
     },
     "execution_count": 35,
     "metadata": {},
     "output_type": "execute_result"
    }
   ],
   "source": [
    "ground_truth_dummy[-1]"
   ]
  },
  {
   "cell_type": "code",
   "execution_count": 36,
   "id": "6b3fd228-5e6e-4105-9623-b333f3f4a5dc",
   "metadata": {},
   "outputs": [],
   "source": [
    "answers = {}"
   ]
  },
  {
   "cell_type": "code",
   "execution_count": 37,
   "id": "dd55b8cf-6931-486d-8a2d-caf0822b1cac",
   "metadata": {},
   "outputs": [
    {
     "data": {
      "application/vnd.jupyter.widget-view+json": {
       "model_id": "9a7efea966264c28b115e554e1168bd8",
       "version_major": 2,
       "version_minor": 0
      },
      "text/plain": [
       "  0%|          | 0/75 [00:00<?, ?it/s]"
      ]
     },
     "metadata": {},
     "output_type": "display_data"
    }
   ],
   "source": [
    "for i, rec in enumerate(tqdm(ground_truth_dummy)):\n",
    "    if i in answers:\n",
    "        continue\n",
    "\n",
    "    answer_llm = rag(rec)\n",
    "    doc_id = rec['document']\n",
    "    original_doc = doc_idx[doc_id]\n",
    "    answer_orig = original_doc['text']\n",
    "\n",
    "    answers[i] = {\n",
    "        'answer_llm': answer_llm,\n",
    "        'answer_orig': answer_orig,\n",
    "        'document': doc_id,\n",
    "        'question': rec['question'],\n",
    "        'course': rec['course'],\n",
    "    }"
   ]
  },
  {
   "cell_type": "code",
   "execution_count": 38,
   "id": "098e473e-414b-4312-adce-bbf9e8772ec1",
   "metadata": {},
   "outputs": [],
   "source": [
    "results_gpt4o = [None] * len(ground_truth_dummy)"
   ]
  },
  {
   "cell_type": "code",
   "execution_count": 43,
   "id": "be6a8352-15c6-4510-977e-927705d6d2b7",
   "metadata": {},
   "outputs": [
    {
     "data": {
      "text/plain": [
       "{'answer_llm': 'You can sign up for the course by going to the course page at [http://mlzoomcamp.com/](http://mlzoomcamp.com/).',\n",
       " 'answer_orig': 'Machine Learning Zoomcamp FAQ\\nThe purpose of this document is to capture frequently asked technical questions.\\nWe did this for our data engineering course and it worked quite well. Check this document for inspiration on how to structure your questions and answers:\\nData Engineering Zoomcamp FAQ\\nIn the course GitHub repository there’s a link. Here it is: https://airtable.com/shryxwLd0COOEaqXo\\nwork',\n",
       " 'document': '0227b872',\n",
       " 'question': 'Where can I sign up for the course?',\n",
       " 'course': 'machine-learning-zoomcamp'}"
      ]
     },
     "execution_count": 43,
     "metadata": {},
     "output_type": "execute_result"
    }
   ],
   "source": [
    "answers.get(0)"
   ]
  },
  {
   "cell_type": "code",
   "execution_count": 44,
   "id": "c9397496-d377-4fa0-96e1-c20dcac5f080",
   "metadata": {},
   "outputs": [],
   "source": [
    "results_gpt4o = [None] * len(ground_truth_dummy)\n",
    "\n",
    "for i, val in answers.items():\n",
    "    results_gpt4o[i] = val.copy()\n",
    "    results_gpt4o[i].update(ground_truth_dummy[i])"
   ]
  },
  {
   "cell_type": "code",
   "execution_count": 46,
   "id": "69bbd011-8b10-4113-ac37-12dd78844fce",
   "metadata": {},
   "outputs": [
    {
     "data": {
      "text/plain": [
       "{'answer_llm': 'You can sign up for the course by going to the course page at [http://mlzoomcamp.com/](http://mlzoomcamp.com/).',\n",
       " 'answer_orig': 'Machine Learning Zoomcamp FAQ\\nThe purpose of this document is to capture frequently asked technical questions.\\nWe did this for our data engineering course and it worked quite well. Check this document for inspiration on how to structure your questions and answers:\\nData Engineering Zoomcamp FAQ\\nIn the course GitHub repository there’s a link. Here it is: https://airtable.com/shryxwLd0COOEaqXo\\nwork',\n",
       " 'document': '0227b872',\n",
       " 'question': 'Where can I sign up for the course?',\n",
       " 'course': 'machine-learning-zoomcamp'}"
      ]
     },
     "execution_count": 46,
     "metadata": {},
     "output_type": "execute_result"
    }
   ],
   "source": [
    "results_gpt4o[0]"
   ]
  },
  {
   "cell_type": "code",
   "execution_count": 47,
   "id": "889ec0f5-e21a-4d80-bfd6-0e388d0b84c0",
   "metadata": {},
   "outputs": [],
   "source": [
    "df_gpt4o = pd.DataFrame(results_gpt4o)"
   ]
  },
  {
   "cell_type": "code",
   "execution_count": 48,
   "id": "6d570922-d993-4e3a-9846-8771e78f4f1c",
   "metadata": {},
   "outputs": [
    {
     "data": {
      "text/plain": [
       "(75, 5)"
      ]
     },
     "execution_count": 48,
     "metadata": {},
     "output_type": "execute_result"
    }
   ],
   "source": [
    "df_gpt4o.shape"
   ]
  },
  {
   "cell_type": "code",
   "execution_count": 49,
   "id": "0ef4e61e-cf6a-4618-98e6-00bea5a24d57",
   "metadata": {},
   "outputs": [
    {
     "data": {
      "text/html": [
       "<div>\n",
       "<style scoped>\n",
       "    .dataframe tbody tr th:only-of-type {\n",
       "        vertical-align: middle;\n",
       "    }\n",
       "\n",
       "    .dataframe tbody tr th {\n",
       "        vertical-align: top;\n",
       "    }\n",
       "\n",
       "    .dataframe thead th {\n",
       "        text-align: right;\n",
       "    }\n",
       "</style>\n",
       "<table border=\"1\" class=\"dataframe\">\n",
       "  <thead>\n",
       "    <tr style=\"text-align: right;\">\n",
       "      <th></th>\n",
       "      <th>answer_llm</th>\n",
       "      <th>answer_orig</th>\n",
       "      <th>document</th>\n",
       "      <th>question</th>\n",
       "      <th>course</th>\n",
       "    </tr>\n",
       "  </thead>\n",
       "  <tbody>\n",
       "    <tr>\n",
       "      <th>0</th>\n",
       "      <td>You can sign up for the course by going to the...</td>\n",
       "      <td>Machine Learning Zoomcamp FAQ\\nThe purpose of ...</td>\n",
       "      <td>0227b872</td>\n",
       "      <td>Where can I sign up for the course?</td>\n",
       "      <td>machine-learning-zoomcamp</td>\n",
       "    </tr>\n",
       "    <tr>\n",
       "      <th>1</th>\n",
       "      <td>You can sign up for the course through the lin...</td>\n",
       "      <td>Machine Learning Zoomcamp FAQ\\nThe purpose of ...</td>\n",
       "      <td>0227b872</td>\n",
       "      <td>Can you provide a link to sign up?</td>\n",
       "      <td>machine-learning-zoomcamp</td>\n",
       "    </tr>\n",
       "    <tr>\n",
       "      <th>2</th>\n",
       "      <td>Yes, there is an FAQ for the Machine Learning ...</td>\n",
       "      <td>Machine Learning Zoomcamp FAQ\\nThe purpose of ...</td>\n",
       "      <td>0227b872</td>\n",
       "      <td>Is there an FAQ for this Machine Learning course?</td>\n",
       "      <td>machine-learning-zoomcamp</td>\n",
       "    </tr>\n",
       "    <tr>\n",
       "      <th>3</th>\n",
       "      <td>The CONTEXT does not provide information about...</td>\n",
       "      <td>Machine Learning Zoomcamp FAQ\\nThe purpose of ...</td>\n",
       "      <td>0227b872</td>\n",
       "      <td>Does this course have a GitHub repository for ...</td>\n",
       "      <td>machine-learning-zoomcamp</td>\n",
       "    </tr>\n",
       "    <tr>\n",
       "      <th>4</th>\n",
       "      <td>The provided CONTEXT does not contain specific...</td>\n",
       "      <td>Machine Learning Zoomcamp FAQ\\nThe purpose of ...</td>\n",
       "      <td>0227b872</td>\n",
       "      <td>How can I structure my questions and answers f...</td>\n",
       "      <td>machine-learning-zoomcamp</td>\n",
       "    </tr>\n",
       "  </tbody>\n",
       "</table>\n",
       "</div>"
      ],
      "text/plain": [
       "                                          answer_llm  \\\n",
       "0  You can sign up for the course by going to the...   \n",
       "1  You can sign up for the course through the lin...   \n",
       "2  Yes, there is an FAQ for the Machine Learning ...   \n",
       "3  The CONTEXT does not provide information about...   \n",
       "4  The provided CONTEXT does not contain specific...   \n",
       "\n",
       "                                         answer_orig  document  \\\n",
       "0  Machine Learning Zoomcamp FAQ\\nThe purpose of ...  0227b872   \n",
       "1  Machine Learning Zoomcamp FAQ\\nThe purpose of ...  0227b872   \n",
       "2  Machine Learning Zoomcamp FAQ\\nThe purpose of ...  0227b872   \n",
       "3  Machine Learning Zoomcamp FAQ\\nThe purpose of ...  0227b872   \n",
       "4  Machine Learning Zoomcamp FAQ\\nThe purpose of ...  0227b872   \n",
       "\n",
       "                                            question  \\\n",
       "0                Where can I sign up for the course?   \n",
       "1                 Can you provide a link to sign up?   \n",
       "2  Is there an FAQ for this Machine Learning course?   \n",
       "3  Does this course have a GitHub repository for ...   \n",
       "4  How can I structure my questions and answers f...   \n",
       "\n",
       "                      course  \n",
       "0  machine-learning-zoomcamp  \n",
       "1  machine-learning-zoomcamp  \n",
       "2  machine-learning-zoomcamp  \n",
       "3  machine-learning-zoomcamp  \n",
       "4  machine-learning-zoomcamp  "
      ]
     },
     "execution_count": 49,
     "metadata": {},
     "output_type": "execute_result"
    }
   ],
   "source": [
    "df_gpt4o.head(5)"
   ]
  },
  {
   "cell_type": "code",
   "execution_count": 52,
   "id": "deb44dd2-bc96-43c5-9b65-1de87b4ac79e",
   "metadata": {},
   "outputs": [],
   "source": [
    "df_gpt4o.to_csv('data/results-gpt4o.csv', index=False)"
   ]
  },
  {
   "cell_type": "markdown",
   "id": "0aff22e9-ea2a-4151-a083-355cb0c2ca74",
   "metadata": {},
   "source": [
    "## Cosine similarity ##"
   ]
  },
  {
   "cell_type": "code",
   "execution_count": 53,
   "id": "7c19c964-4495-422e-bedc-a7b458ed6a1e",
   "metadata": {},
   "outputs": [],
   "source": [
    "results_gpt4o = df_gpt4o.to_dict(orient='records')"
   ]
  },
  {
   "cell_type": "code",
   "execution_count": 54,
   "id": "dee927c6-9854-4dd5-a994-0c0bfc020a31",
   "metadata": {},
   "outputs": [],
   "source": [
    "record = results_gpt4o[0]"
   ]
  },
  {
   "cell_type": "code",
   "execution_count": 56,
   "id": "981c4a81-244d-4620-a857-ed1454b62869",
   "metadata": {},
   "outputs": [
    {
     "data": {
      "text/plain": [
       "{'answer_llm': 'You can sign up for the course by going to the course page at [http://mlzoomcamp.com/](http://mlzoomcamp.com/).',\n",
       " 'answer_orig': 'Machine Learning Zoomcamp FAQ\\nThe purpose of this document is to capture frequently asked technical questions.\\nWe did this for our data engineering course and it worked quite well. Check this document for inspiration on how to structure your questions and answers:\\nData Engineering Zoomcamp FAQ\\nIn the course GitHub repository there’s a link. Here it is: https://airtable.com/shryxwLd0COOEaqXo\\nwork',\n",
       " 'document': '0227b872',\n",
       " 'question': 'Where can I sign up for the course?',\n",
       " 'course': 'machine-learning-zoomcamp'}"
      ]
     },
     "execution_count": 56,
     "metadata": {},
     "output_type": "execute_result"
    }
   ],
   "source": [
    "record"
   ]
  },
  {
   "cell_type": "code",
   "execution_count": 57,
   "id": "978a8307-b154-48c9-a6b8-70b87ffd2304",
   "metadata": {},
   "outputs": [],
   "source": [
    "def compute_similarity(record):\n",
    "    answer_orig = record['answer_orig']\n",
    "    answer_llm = record['answer_llm']\n",
    "    \n",
    "    v_llm = model.encode(answer_llm)\n",
    "    v_orig = model.encode(answer_orig)\n",
    "    \n",
    "    return v_llm.dot(v_orig)"
   ]
  },
  {
   "cell_type": "code",
   "execution_count": 85,
   "id": "8af904a6-5ef6-43c4-a73e-d0826f4c736a",
   "metadata": {},
   "outputs": [
    {
     "data": {
      "application/vnd.jupyter.widget-view+json": {
       "model_id": "a0cd60f34d2e44a2a9a31e35043130e0",
       "version_major": 2,
       "version_minor": 0
      },
      "text/plain": [
       "  0%|          | 0/75 [00:00<?, ?it/s]"
      ]
     },
     "metadata": {},
     "output_type": "display_data"
    }
   ],
   "source": [
    "similarity = []\n",
    "\n",
    "for record in tqdm(results_gpt4o):\n",
    "    sim = compute_similarity(record)\n",
    "    similarity.append(sim)"
   ]
  },
  {
   "cell_type": "code",
   "execution_count": 86,
   "id": "68ff9d3d-f392-458f-b750-2590cf672d08",
   "metadata": {},
   "outputs": [
    {
     "data": {
      "text/plain": [
       "count    75.000000\n",
       "mean      0.613186\n",
       "std       0.207226\n",
       "min      -0.045846\n",
       "25%       0.469019\n",
       "50%       0.677235\n",
       "75%       0.767699\n",
       "max       0.945692\n",
       "Name: cosine, dtype: float64"
      ]
     },
     "execution_count": 86,
     "metadata": {},
     "output_type": "execute_result"
    }
   ],
   "source": [
    "df_gpt4o['cosine'] = similarity\n",
    "df_gpt4o['cosine'].describe()"
   ]
  },
  {
   "cell_type": "code",
   "execution_count": 61,
   "id": "6b5dd426-1d30-4fa1-8043-e0d8f19115fb",
   "metadata": {},
   "outputs": [
    {
     "name": "stderr",
     "output_type": "stream",
     "text": [
      "huggingface/tokenizers: The current process just got forked, after parallelism has already been used. Disabling parallelism to avoid deadlocks...\n",
      "To disable this warning, you can either:\n",
      "\t- Avoid using `tokenizers` before the fork if possible\n",
      "\t- Explicitly set the environment variable TOKENIZERS_PARALLELISM=(true | false)\n"
     ]
    },
    {
     "name": "stdout",
     "output_type": "stream",
     "text": [
      "Collecting seaborn\n",
      "  Downloading seaborn-0.13.2-py3-none-any.whl.metadata (5.4 kB)\n",
      "Requirement already satisfied: numpy!=1.24.0,>=1.20 in /Users/ron/Documents/github/myenv/lib/python3.9/site-packages (from seaborn) (2.0.2)\n",
      "Requirement already satisfied: pandas>=1.2 in /Users/ron/Documents/github/myenv/lib/python3.9/site-packages (from seaborn) (2.2.3)\n",
      "Collecting matplotlib!=3.6.1,>=3.4 (from seaborn)\n",
      "  Downloading matplotlib-3.9.4-cp39-cp39-macosx_11_0_arm64.whl.metadata (11 kB)\n",
      "Collecting contourpy>=1.0.1 (from matplotlib!=3.6.1,>=3.4->seaborn)\n",
      "  Downloading contourpy-1.3.0-cp39-cp39-macosx_11_0_arm64.whl.metadata (5.4 kB)\n",
      "Collecting cycler>=0.10 (from matplotlib!=3.6.1,>=3.4->seaborn)\n",
      "  Downloading cycler-0.12.1-py3-none-any.whl.metadata (3.8 kB)\n",
      "Collecting fonttools>=4.22.0 (from matplotlib!=3.6.1,>=3.4->seaborn)\n",
      "  Downloading fonttools-4.58.0-cp39-cp39-macosx_10_9_universal2.whl.metadata (104 kB)\n",
      "Collecting kiwisolver>=1.3.1 (from matplotlib!=3.6.1,>=3.4->seaborn)\n",
      "  Downloading kiwisolver-1.4.7-cp39-cp39-macosx_11_0_arm64.whl.metadata (6.3 kB)\n",
      "Requirement already satisfied: packaging>=20.0 in /Users/ron/Documents/github/myenv/lib/python3.9/site-packages (from matplotlib!=3.6.1,>=3.4->seaborn) (24.2)\n",
      "Requirement already satisfied: pillow>=8 in /Users/ron/Documents/github/myenv/lib/python3.9/site-packages (from matplotlib!=3.6.1,>=3.4->seaborn) (11.2.1)\n",
      "Collecting pyparsing>=2.3.1 (from matplotlib!=3.6.1,>=3.4->seaborn)\n",
      "  Downloading pyparsing-3.2.3-py3-none-any.whl.metadata (5.0 kB)\n",
      "Requirement already satisfied: python-dateutil>=2.7 in /Users/ron/Documents/github/myenv/lib/python3.9/site-packages (from matplotlib!=3.6.1,>=3.4->seaborn) (2.9.0.post0)\n",
      "Collecting importlib-resources>=3.2.0 (from matplotlib!=3.6.1,>=3.4->seaborn)\n",
      "  Downloading importlib_resources-6.5.2-py3-none-any.whl.metadata (3.9 kB)\n",
      "Requirement already satisfied: zipp>=3.1.0 in /Users/ron/Documents/github/myenv/lib/python3.9/site-packages (from importlib-resources>=3.2.0->matplotlib!=3.6.1,>=3.4->seaborn) (3.21.0)\n",
      "Requirement already satisfied: pytz>=2020.1 in /Users/ron/Documents/github/myenv/lib/python3.9/site-packages (from pandas>=1.2->seaborn) (2025.2)\n",
      "Requirement already satisfied: tzdata>=2022.7 in /Users/ron/Documents/github/myenv/lib/python3.9/site-packages (from pandas>=1.2->seaborn) (2025.2)\n",
      "Requirement already satisfied: six>=1.5 in /Users/ron/Documents/github/myenv/lib/python3.9/site-packages (from python-dateutil>=2.7->matplotlib!=3.6.1,>=3.4->seaborn) (1.17.0)\n",
      "Downloading seaborn-0.13.2-py3-none-any.whl (294 kB)\n",
      "Downloading matplotlib-3.9.4-cp39-cp39-macosx_11_0_arm64.whl (7.8 MB)\n",
      "\u001b[2K   \u001b[90m━━━━━━━━━━━━━━━━━━━━━━━━━━━━━━━━━━━━━━━━\u001b[0m \u001b[32m7.8/7.8 MB\u001b[0m \u001b[31m3.2 MB/s\u001b[0m eta \u001b[36m0:00:00\u001b[0ma \u001b[36m0:00:01\u001b[0m\n",
      "\u001b[?25hDownloading contourpy-1.3.0-cp39-cp39-macosx_11_0_arm64.whl (249 kB)\n",
      "Downloading cycler-0.12.1-py3-none-any.whl (8.3 kB)\n",
      "Downloading fonttools-4.58.0-cp39-cp39-macosx_10_9_universal2.whl (2.7 MB)\n",
      "\u001b[2K   \u001b[90m━━━━━━━━━━━━━━━━━━━━━━━━━━━━━━━━━━━━━━━━\u001b[0m \u001b[32m2.7/2.7 MB\u001b[0m \u001b[31m4.2 MB/s\u001b[0m eta \u001b[36m0:00:00\u001b[0ma \u001b[36m0:00:01\u001b[0m\n",
      "\u001b[?25hDownloading importlib_resources-6.5.2-py3-none-any.whl (37 kB)\n",
      "Downloading kiwisolver-1.4.7-cp39-cp39-macosx_11_0_arm64.whl (64 kB)\n",
      "Downloading pyparsing-3.2.3-py3-none-any.whl (111 kB)\n",
      "Installing collected packages: pyparsing, kiwisolver, importlib-resources, fonttools, cycler, contourpy, matplotlib, seaborn\n",
      "\u001b[2K   \u001b[90m━━━━━━━━━━━━━━━━━━━━━━━━━━━━━━━━━━━━━━━━\u001b[0m \u001b[32m8/8\u001b[0m [seaborn]m7/8\u001b[0m [seaborn]ib]\n",
      "\u001b[1A\u001b[2KSuccessfully installed contourpy-1.3.0 cycler-0.12.1 fonttools-4.58.0 importlib-resources-6.5.2 kiwisolver-1.4.7 matplotlib-3.9.4 pyparsing-3.2.3 seaborn-0.13.2\n"
     ]
    }
   ],
   "source": [
    "!pip install -U seaborn"
   ]
  },
  {
   "cell_type": "code",
   "execution_count": 63,
   "id": "0964493e-2618-418a-ba3a-a33ae8f06283",
   "metadata": {},
   "outputs": [],
   "source": [
    "import seaborn as sns\n",
    "import matplotlib.pyplot as plt"
   ]
  },
  {
   "cell_type": "code",
   "execution_count": 64,
   "id": "b68bdfa3-0f8f-420e-aa21-23dce2e06b11",
   "metadata": {},
   "outputs": [
    {
     "name": "stderr",
     "output_type": "stream",
     "text": [
      "/var/folders/wb/_77j3j256dlc5yrp7_0dxfg40000gn/T/ipykernel_89768/1467479441.py:1: UserWarning: \n",
      "\n",
      "`distplot` is a deprecated function and will be removed in seaborn v0.14.0.\n",
      "\n",
      "Please adapt your code to use either `displot` (a figure-level function with\n",
      "similar flexibility) or `histplot` (an axes-level function for histograms).\n",
      "\n",
      "For a guide to updating your code to use the new functions, please see\n",
      "https://gist.github.com/mwaskom/de44147ed2974457ad6372750bbe5751\n",
      "\n",
      "  sns.distplot(df_gpt4o['cosine'], label='4o')\n"
     ]
    },
    {
     "data": {
      "text/plain": [
       "<matplotlib.legend.Legend at 0x301f3cdc0>"
      ]
     },
     "execution_count": 64,
     "metadata": {},
     "output_type": "execute_result"
    },
    {
     "data": {
      "image/png": "[encoded data removed]",
      "text/plain": [
       "<Figure size 640x480 with 1 Axes>"
      ]
     },
     "metadata": {},
     "output_type": "display_data"
    }
   ],
   "source": [
    "sns.distplot(df_gpt4o['cosine'], label='4o')\n",
    "plt.title(\"RAG LLM performance\")\n",
    "plt.xlabel(\"A->Q->A' Cosine Similarity\")\n",
    "plt.legend()"
   ]
  },
  {
   "cell_type": "code",
   "execution_count": 65,
   "id": "054827d9-cd36-4caa-98f4-cf042d84a2d0",
   "metadata": {},
   "outputs": [
    {
     "data": {
      "image/png": "[encoded data removed]",
      "text/plain": [
       "<Figure size 500x500 with 1 Axes>"
      ]
     },
     "metadata": {},
     "output_type": "display_data"
    }
   ],
   "source": [
    "sns.displot(df_gpt4o['cosine'], kind=\"kde\")\n",
    "plt.show()"
   ]
  },
  {
   "cell_type": "markdown",
   "id": "182fa082-f902-4625-9418-fcc07b1f32c1",
   "metadata": {},
   "source": [
    "## Parallel Execution ##"
   ]
  },
  {
   "cell_type": "code",
   "execution_count": 66,
   "id": "bf717b76-f22e-4a9e-aeaa-ad37aae6bc06",
   "metadata": {},
   "outputs": [],
   "source": [
    "from tqdm.auto import tqdm\n",
    "\n",
    "from concurrent.futures import ThreadPoolExecutor\n",
    "\n",
    "pool = ThreadPoolExecutor(max_workers=6)\n",
    "\n",
    "def map_progress(pool, seq, f):\n",
    "    results = []\n",
    "\n",
    "    with tqdm(total=len(seq)) as progress:\n",
    "        futures = []\n",
    "\n",
    "        for el in seq:\n",
    "            future = pool.submit(f, el)\n",
    "            future.add_done_callback(lambda p: progress.update())\n",
    "            futures.append(future)\n",
    "\n",
    "        for future in futures:\n",
    "            result = future.result()\n",
    "            results.append(result)\n",
    "\n",
    "    return results"
   ]
  },
  {
   "cell_type": "code",
   "execution_count": 72,
   "id": "e6559a2c-a23a-4f37-b6f1-ee74d84439ef",
   "metadata": {},
   "outputs": [],
   "source": [
    "def process_record(rec):\n",
    "    model = 'gpt-3.5-turbo'\n",
    "    answer_llm = rag(rec, model=model)\n",
    "    \n",
    "    doc_id = rec['document']\n",
    "    original_doc = doc_idx[doc_id]\n",
    "    answer_orig = original_doc['text']\n",
    "\n",
    "    return {\n",
    "        'answer_llm': answer_llm,\n",
    "        'answer_orig': answer_orig,\n",
    "        'document': doc_id,\n",
    "        'question': rec['question'],\n",
    "        'course': rec['course'],\n",
    "    }"
   ]
  },
  {
   "cell_type": "code",
   "execution_count": 73,
   "id": "080dee2f-14c6-43f1-9268-3dd106833ea5",
   "metadata": {},
   "outputs": [
    {
     "data": {
      "text/plain": [
       "{'answer_llm': \"Yes, everything is recorded so you won't miss anything if you miss a session.\",\n",
       " 'answer_orig': 'Everything is recorded, so you won’t miss anything. You will be able to ask your questions for office hours in advance and we will cover them during the live stream. Also, you can always ask questions in Slack.',\n",
       " 'document': '5170565b',\n",
       " 'question': 'Are sessions recorded if I miss one?',\n",
       " 'course': 'machine-learning-zoomcamp'}"
      ]
     },
     "execution_count": 73,
     "metadata": {},
     "output_type": "execute_result"
    }
   ],
   "source": [
    "process_record(ground_truth[10])"
   ]
  },
  {
   "cell_type": "code",
   "execution_count": 74,
   "id": "1fda142d-33da-4d88-a328-a0640afb74b6",
   "metadata": {},
   "outputs": [
    {
     "data": {
      "application/vnd.jupyter.widget-view+json": {
       "model_id": "80252eeb56634504835dfe6e869ca049",
       "version_major": 2,
       "version_minor": 0
      },
      "text/plain": [
       "  0%|          | 0/75 [00:00<?, ?it/s]"
      ]
     },
     "metadata": {},
     "output_type": "display_data"
    }
   ],
   "source": [
    "results_gpt35 = map_progress(pool, ground_truth_dummy, process_record)"
   ]
  },
  {
   "cell_type": "code",
   "execution_count": 75,
   "id": "ceeaf484-1f23-419a-978e-cc7023543e84",
   "metadata": {},
   "outputs": [
    {
     "data": {
      "text/plain": [
       "[{'answer_llm': \"You can sign up for the course by going to the course page at http://mlzoomcamp.com/#syllabus. From there, you can access the course materials and start going through the videos and cohort folders for your cohort's year.\",\n",
       "  'answer_orig': 'Machine Learning Zoomcamp FAQ\\nThe purpose of this document is to capture frequently asked technical questions.\\nWe did this for our data engineering course and it worked quite well. Check this document for inspiration on how to structure your questions and answers:\\nData Engineering Zoomcamp FAQ\\nIn the course GitHub repository there’s a link. Here it is: https://airtable.com/shryxwLd0COOEaqXo\\nwork',\n",
       "  'document': '0227b872',\n",
       "  'question': 'Where can I sign up for the course?',\n",
       "  'course': 'machine-learning-zoomcamp'},\n",
       " {'answer_llm': 'No, I cannot provide a link to sign up. The link for signing up can be found in the course GitHub repository: https://airtable.com/shryxwLd0COOEaqXo.',\n",
       "  'answer_orig': 'Machine Learning Zoomcamp FAQ\\nThe purpose of this document is to capture frequently asked technical questions.\\nWe did this for our data engineering course and it worked quite well. Check this document for inspiration on how to structure your questions and answers:\\nData Engineering Zoomcamp FAQ\\nIn the course GitHub repository there’s a link. Here it is: https://airtable.com/shryxwLd0COOEaqXo\\nwork',\n",
       "  'document': '0227b872',\n",
       "  'question': 'Can you provide a link to sign up?',\n",
       "  'course': 'machine-learning-zoomcamp'},\n",
       " {'answer_llm': 'Yes, there is an FAQ for the Machine Learning course. You can find it in the course GitHub repository with the link provided: https://airtable.com/shryxwLd0COOEaqXo.',\n",
       "  'answer_orig': 'Machine Learning Zoomcamp FAQ\\nThe purpose of this document is to capture frequently asked technical questions.\\nWe did this for our data engineering course and it worked quite well. Check this document for inspiration on how to structure your questions and answers:\\nData Engineering Zoomcamp FAQ\\nIn the course GitHub repository there’s a link. Here it is: https://airtable.com/shryxwLd0COOEaqXo\\nwork',\n",
       "  'document': '0227b872',\n",
       "  'question': 'Is there an FAQ for this Machine Learning course?',\n",
       "  'course': 'machine-learning-zoomcamp'},\n",
       " {'answer_llm': 'No, there is no mention of a GitHub repository for the sign-up link in the provided context.',\n",
       "  'answer_orig': 'Machine Learning Zoomcamp FAQ\\nThe purpose of this document is to capture frequently asked technical questions.\\nWe did this for our data engineering course and it worked quite well. Check this document for inspiration on how to structure your questions and answers:\\nData Engineering Zoomcamp FAQ\\nIn the course GitHub repository there’s a link. Here it is: https://airtable.com/shryxwLd0COOEaqXo\\nwork',\n",
       "  'document': '0227b872',\n",
       "  'question': 'Does this course have a GitHub repository for the sign-up link?',\n",
       "  'course': 'machine-learning-zoomcamp'},\n",
       " {'answer_llm': 'Based on the context provided, you can structure your questions and answers for the course in a way that incorporates all the scores to ensure that most students pass.',\n",
       "  'answer_orig': 'Machine Learning Zoomcamp FAQ\\nThe purpose of this document is to capture frequently asked technical questions.\\nWe did this for our data engineering course and it worked quite well. Check this document for inspiration on how to structure your questions and answers:\\nData Engineering Zoomcamp FAQ\\nIn the course GitHub repository there’s a link. Here it is: https://airtable.com/shryxwLd0COOEaqXo\\nwork',\n",
       "  'document': '0227b872',\n",
       "  'question': 'How can I structure my questions and answers for the course?',\n",
       "  'course': 'machine-learning-zoomcamp'},\n",
       " {'answer_llm': 'The course videos are pre-recorded.',\n",
       "  'answer_orig': 'The course videos are pre-recorded, you can start watching the course right now.\\nWe will also occasionally have office hours - live sessions where we will answer your questions. The office hours sessions are recorded too.\\nYou can see the office hours as well as the pre-recorded course videos in the course playlist on YouTube.',\n",
       "  'document': '39fda9f0',\n",
       "  'question': 'Are the course videos live or pre-recorded?',\n",
       "  'course': 'machine-learning-zoomcamp'},\n",
       " {'answer_llm': \"Based on the context provided, you can start watching the course videos right now as they are pre-recorded. The course is self-paced, so you can go through the materials at any time. The videos are from the previous iteration, but they are still up-to-date. If you haven't taken part in the previous iteration, it is recommended that you start watching the videos now to learn new things. Additionally, it is recommended to use Python 3.10 instead of Python 3.8.\",\n",
       "  'answer_orig': 'The course videos are pre-recorded, you can start watching the course right now.\\nWe will also occasionally have office hours - live sessions where we will answer your questions. The office hours sessions are recorded too.\\nYou can see the office hours as well as the pre-recorded course videos in the course playlist on YouTube.',\n",
       "  'document': '39fda9f0',\n",
       "  'question': 'When can I start watching the course videos?',\n",
       "  'course': 'machine-learning-zoomcamp'},\n",
       " {'answer_llm': \"Yes, the live office hours sessions are recorded so you won't miss anything.\",\n",
       "  'answer_orig': 'The course videos are pre-recorded, you can start watching the course right now.\\nWe will also occasionally have office hours - live sessions where we will answer your questions. The office hours sessions are recorded too.\\nYou can see the office hours as well as the pre-recorded course videos in the course playlist on YouTube.',\n",
       "  'document': '39fda9f0',\n",
       "  'question': 'Are the live office hours sessions recorded?',\n",
       "  'course': 'machine-learning-zoomcamp'},\n",
       " {'answer_llm': 'You can find the office hours sessions in the course playlist on YouTube, along with the pre-recorded course videos.',\n",
       "  'answer_orig': 'The course videos are pre-recorded, you can start watching the course right now.\\nWe will also occasionally have office hours - live sessions where we will answer your questions. The office hours sessions are recorded too.\\nYou can see the office hours as well as the pre-recorded course videos in the course playlist on YouTube.',\n",
       "  'document': '39fda9f0',\n",
       "  'question': 'Where can I find the office hours sessions?',\n",
       "  'course': 'machine-learning-zoomcamp'},\n",
       " {'answer_llm': 'You can access the pre-recorded course videos on the course page (http://mlzoomcamp.com/). Scroll down to start going through the course materials and watch the videos. You can also find the course playlist on YouTube to watch the office hours sessions and pre-recorded course videos.',\n",
       "  'answer_orig': 'The course videos are pre-recorded, you can start watching the course right now.\\nWe will also occasionally have office hours - live sessions where we will answer your questions. The office hours sessions are recorded too.\\nYou can see the office hours as well as the pre-recorded course videos in the course playlist on YouTube.',\n",
       "  'document': '39fda9f0',\n",
       "  'question': 'Where can I access the pre-recorded course videos?',\n",
       "  'course': 'machine-learning-zoomcamp'},\n",
       " {'answer_llm': 'Yes, sessions are recorded so if you miss one, you can watch the recording later.',\n",
       "  'answer_orig': 'Everything is recorded, so you won’t miss anything. You will be able to ask your questions for office hours in advance and we will cover them during the live stream. Also, you can always ask questions in Slack.',\n",
       "  'document': '5170565b',\n",
       "  'question': 'Are sessions recorded if I miss one?',\n",
       "  'course': 'machine-learning-zoomcamp'},\n",
       " {'answer_llm': \"Based on the provided context, yes, you can ask questions in advance if you can't attend a live stream. You will be able to ask your questions for office hours in advance and they will be covered during the live stream. Additionally, you can always ask questions in Slack.\",\n",
       "  'answer_orig': 'Everything is recorded, so you won’t miss anything. You will be able to ask your questions for office hours in advance and we will cover them during the live stream. Also, you can always ask questions in Slack.',\n",
       "  'document': '5170565b',\n",
       "  'question': \"Can I ask questions in advance if I can't attend a live stream?\",\n",
       "  'course': 'machine-learning-zoomcamp'},\n",
       " {'answer_llm': 'Your questions will be addressed if you miss a session by watching the recorded video, asking questions in advance for office hours, and asking questions on Slack.',\n",
       "  'answer_orig': 'Everything is recorded, so you won’t miss anything. You will be able to ask your questions for office hours in advance and we will cover them during the live stream. Also, you can always ask questions in Slack.',\n",
       "  'document': '5170565b',\n",
       "  'question': 'How will my questions be addressed if I miss a session?',\n",
       "  'course': 'machine-learning-zoomcamp'},\n",
       " {'answer_llm': \"Yes, everything is recorded so you won't miss anything. You can catch up on missed sessions by watching the recordings. Additionally, you can ask your questions for office hours in advance, and they will be covered during the live stream. You can also ask questions in Slack.\",\n",
       "  'answer_orig': 'Everything is recorded, so you won’t miss anything. You will be able to ask your questions for office hours in advance and we will cover them during the live stream. Also, you can always ask questions in Slack.',\n",
       "  'document': '5170565b',\n",
       "  'question': 'Is there a way to catch up on a missed session?',\n",
       "  'course': 'machine-learning-zoomcamp'},\n",
       " {'answer_llm': 'Yes, you can still interact with instructors after missing a session. You will be able to ask your questions for office hours in advance and they will be covered during the live stream. Additionally, you can always ask questions in Slack.',\n",
       "  'answer_orig': 'Everything is recorded, so you won’t miss anything. You will be able to ask your questions for office hours in advance and we will cover them during the live stream. Also, you can always ask questions in Slack.',\n",
       "  'document': '5170565b',\n",
       "  'question': 'Can I still interact with instructors after missing a session?',\n",
       "  'course': 'machine-learning-zoomcamp'},\n",
       " {'answer_llm': 'Based on the context provided, the course will cover the bare minimum of theoretical content. The focus is more on practice, and the theory will only be covered on an intuitive level. For example, the course will not derive the gradient update rule for logistic regression.',\n",
       "  'answer_orig': \"The bare minimum. The focus is more on practice, and we'll cover the theory only on the intuitive level.: https://mlbookcamp.com/article/python\\nFor example, we won't derive the gradient update rule for logistic regression (there are other great courses for that), but we'll cover how to use logistic regression and make sense of the results.\",\n",
       "  'document': 'ecca790c',\n",
       "  'question': 'How much theoretical content is there in the course?',\n",
       "  'course': 'machine-learning-zoomcamp'},\n",
       " {'answer_llm': 'Based on the context provided, the course will cover theory at a minimal level and will not derive specific theoretical concepts like the gradient update rule for logistic regression. The focus is more on practical applications rather than in-depth theoretical derivations.',\n",
       "  'answer_orig': \"The bare minimum. The focus is more on practice, and we'll cover the theory only on the intuitive level.: https://mlbookcamp.com/article/python\\nFor example, we won't derive the gradient update rule for logistic regression (there are other great courses for that), but we'll cover how to use logistic regression and make sense of the results.\",\n",
       "  'document': 'ecca790c',\n",
       "  'question': 'Will the course cover theoretical derivations like the gradient update rule for logistic regression?',\n",
       "  'course': 'machine-learning-zoomcamp'},\n",
       " {'answer_llm': 'The focus of the course is more on practice rather than theory. The theory covered will be at a bare minimum level, with the main emphasis on practical application.',\n",
       "  'answer_orig': \"The bare minimum. The focus is more on practice, and we'll cover the theory only on the intuitive level.: https://mlbookcamp.com/article/python\\nFor example, we won't derive the gradient update rule for logistic regression (there are other great courses for that), but we'll cover how to use logistic regression and make sense of the results.\",\n",
       "  'document': 'ecca790c',\n",
       "  'question': 'Is the focus of the course more on practice or theory?',\n",
       "  'course': 'machine-learning-zoomcamp'},\n",
       " {'answer_llm': 'Based on the context provided in the FAQ database, if you are looking for more theoretical topics not covered in this course, it is mentioned that the course will cover the theory only on an intuitive level. If you are interested in a more in-depth theoretical approach, it is suggested to look for other great courses that delve deeper into the theory.',\n",
       "  'answer_orig': \"The bare minimum. The focus is more on practice, and we'll cover the theory only on the intuitive level.: https://mlbookcamp.com/article/python\\nFor example, we won't derive the gradient update rule for logistic regression (there are other great courses for that), but we'll cover how to use logistic regression and make sense of the results.\",\n",
       "  'document': 'ecca790c',\n",
       "  'question': 'Where can I find more about the theoretical topics not covered in this course?',\n",
       "  'course': 'machine-learning-zoomcamp'},\n",
       " {'answer_llm': 'No, the course will not cover the theory of logistic regression in depth. However, it will focus on how to use logistic regression and interpret its results on an intuitive level.',\n",
       "  'answer_orig': \"The bare minimum. The focus is more on practice, and we'll cover the theory only on the intuitive level.: https://mlbookcamp.com/article/python\\nFor example, we won't derive the gradient update rule for logistic regression (there are other great courses for that), but we'll cover how to use logistic regression and make sense of the results.\",\n",
       "  'document': 'ecca790c',\n",
       "  'question': 'Will the course help me understand how to use logistic regression and interpret its results?',\n",
       "  'course': 'machine-learning-zoomcamp'},\n",
       " {'answer_llm': 'No, prior knowledge in math is not necessary for this course. The course will cover some linear algebra, but there will be very few formulas, mostly code.',\n",
       "  'answer_orig': \"Yes! We'll cover some linear algebra in the course, but in general, there will be very few formulas, mostly code.\\nHere are some interesting videos covering linear algebra that you can already watch: ML Zoomcamp 1.8 - Linear Algebra Refresher from Alexey Grigorev or the excellent playlist from 3Blue1Brown Vectors | Chapter 1, Essence of linear algebra. Never hesitate to ask the community for help if you have any question.\\n(Mélanie Fouesnard)\",\n",
       "  'document': 'c25b3de4',\n",
       "  'question': 'Is prior knowledge in math necessary for this course?',\n",
       "  'course': 'machine-learning-zoomcamp'},\n",
       " {'answer_llm': 'Based on the context provided, the course will cover some linear algebra, but there will be very few formulas and mostly code. The focus will be more on practice rather than theory, and the theory will be covered only on an intuitive level. Additionally, the course will not derive complex mathematical rules but will focus on how to use them practically.',\n",
       "  'answer_orig': \"Yes! We'll cover some linear algebra in the course, but in general, there will be very few formulas, mostly code.\\nHere are some interesting videos covering linear algebra that you can already watch: ML Zoomcamp 1.8 - Linear Algebra Refresher from Alexey Grigorev or the excellent playlist from 3Blue1Brown Vectors | Chapter 1, Essence of linear algebra. Never hesitate to ask the community for help if you have any question.\\n(Mélanie Fouesnard)\",\n",
       "  'document': 'c25b3de4',\n",
       "  'question': 'What type of mathematical content will be covered?',\n",
       "  'course': 'machine-learning-zoomcamp'},\n",
       " {'answer_llm': 'Yes, there are resources available to help with linear algebra. Some interesting videos covering linear algebra can be watched, such as ML Zoomcamp 1.8 - Linear Algebra Refresher from Alexey Grigorev or the excellent playlist from 3Blue1Brown Vectors | Chapter 1, Essence of linear algebra. Additionally, the community can be a helpful resource for any questions you may have related to linear algebra.',\n",
       "  'answer_orig': \"Yes! We'll cover some linear algebra in the course, but in general, there will be very few formulas, mostly code.\\nHere are some interesting videos covering linear algebra that you can already watch: ML Zoomcamp 1.8 - Linear Algebra Refresher from Alexey Grigorev or the excellent playlist from 3Blue1Brown Vectors | Chapter 1, Essence of linear algebra. Never hesitate to ask the community for help if you have any question.\\n(Mélanie Fouesnard)\",\n",
       "  'document': 'c25b3de4',\n",
       "  'question': 'Are there resources available to help with linear algebra?',\n",
       "  'course': 'machine-learning-zoomcamp'},\n",
       " {'answer_llm': \"Yes, you can seek help from the community for math-related questions. The course will cover some linear algebra, but there will be very few formulas, mostly code. If you have any questions, don't hesitate to ask the community for help.\",\n",
       "  'answer_orig': \"Yes! We'll cover some linear algebra in the course, but in general, there will be very few formulas, mostly code.\\nHere are some interesting videos covering linear algebra that you can already watch: ML Zoomcamp 1.8 - Linear Algebra Refresher from Alexey Grigorev or the excellent playlist from 3Blue1Brown Vectors | Chapter 1, Essence of linear algebra. Never hesitate to ask the community for help if you have any question.\\n(Mélanie Fouesnard)\",\n",
       "  'document': 'c25b3de4',\n",
       "  'question': 'Can I seek help from the community for math-related questions?',\n",
       "  'course': 'machine-learning-zoomcamp'},\n",
       " {'answer_llm': 'Based on the given context, there are recommended videos for learning linear algebra, such as \"ML Zoomcamp 1.8 - Linear Algebra Refresher from Alexey Grigorev\" and the playlist from \"3Blue1Brown Vectors | Chapter 1, Essence of linear algebra.\"',\n",
       "  'answer_orig': \"Yes! We'll cover some linear algebra in the course, but in general, there will be very few formulas, mostly code.\\nHere are some interesting videos covering linear algebra that you can already watch: ML Zoomcamp 1.8 - Linear Algebra Refresher from Alexey Grigorev or the excellent playlist from 3Blue1Brown Vectors | Chapter 1, Essence of linear algebra. Never hesitate to ask the community for help if you have any question.\\n(Mélanie Fouesnard)\",\n",
       "  'document': 'c25b3de4',\n",
       "  'question': 'Are there any recommended videos for learning linear algebra?',\n",
       "  'course': 'machine-learning-zoomcamp'},\n",
       " {'answer_llm': \"If you haven't received a confirmation email after filling out the form, it is normal as the process is automated. Check your promotions tab in Gmail as well as spam folders. If you unsubscribed from the newsletter, you won't receive course-related updates. To stay informed, join the #course-ml-zoomcamp channel in Slack and the telegram channel with announcements.\",\n",
       "  'answer_orig': \"The process is automated now, so you should receive the email eventually. If you haven’t, check your promotions tab in Gmail as well as spam.\\nIf you unsubscribed from our newsletter, you won't get course related updates too.\\nBut don't worry, it’s not a problem. To make sure you don’t miss anything, join the #course-ml-zoomcamp channel in Slack and our telegram channel with announcements. This is enough to follow the course.\",\n",
       "  'document': '6ba259b1',\n",
       "  'question': \"What should I do if I haven't received a confirmation email after filling out the form?\",\n",
       "  'course': 'machine-learning-zoomcamp'},\n",
       " {'answer_llm': \"Yes, it is possible that your confirmation email went to your spam folder. Make sure to check your spam folder as well as the promotions tab in Gmail. If you haven't received the email, you can join the #course-ml-zoomcamp channel in Slack and the telegram channel with announcements to follow the course without missing anything.\",\n",
       "  'answer_orig': \"The process is automated now, so you should receive the email eventually. If you haven’t, check your promotions tab in Gmail as well as spam.\\nIf you unsubscribed from our newsletter, you won't get course related updates too.\\nBut don't worry, it’s not a problem. To make sure you don’t miss anything, join the #course-ml-zoomcamp channel in Slack and our telegram channel with announcements. This is enough to follow the course.\",\n",
       "  'document': '6ba259b1',\n",
       "  'question': 'Is it possible my confirmation email went to my spam folder?',\n",
       "  'course': 'machine-learning-zoomcamp'},\n",
       " {'answer_llm': \"No, unsubscribing from the newsletter can affect receiving course updates as mentioned in the context. If you unsubscribe from the newsletter, you won't get course-related updates either.\",\n",
       "  'answer_orig': \"The process is automated now, so you should receive the email eventually. If you haven’t, check your promotions tab in Gmail as well as spam.\\nIf you unsubscribed from our newsletter, you won't get course related updates too.\\nBut don't worry, it’s not a problem. To make sure you don’t miss anything, join the #course-ml-zoomcamp channel in Slack and our telegram channel with announcements. This is enough to follow the course.\",\n",
       "  'document': '6ba259b1',\n",
       "  'question': 'Can unsubscribing from the newsletter affect receiving course updates?',\n",
       "  'course': 'machine-learning-zoomcamp'},\n",
       " {'answer_llm': 'If you don’t receive the confirmation email for course updates, you can join the #course-ml-zoomcamp channel in Slack and the telegram channel with announcements to stay updated.',\n",
       "  'answer_orig': \"The process is automated now, so you should receive the email eventually. If you haven’t, check your promotions tab in Gmail as well as spam.\\nIf you unsubscribed from our newsletter, you won't get course related updates too.\\nBut don't worry, it’s not a problem. To make sure you don’t miss anything, join the #course-ml-zoomcamp channel in Slack and our telegram channel with announcements. This is enough to follow the course.\",\n",
       "  'document': '6ba259b1',\n",
       "  'question': 'Where can I get course updates if I don’t receive the confirmation email?',\n",
       "  'course': 'machine-learning-zoomcamp'},\n",
       " {'answer_llm': \"If you are having email issues and want to stay informed about the course, you can join the #course-ml-zoomcamp channel in Slack and our telegram channel with announcements. This will ensure you don't miss any updates and can follow the course without relying on emails.\",\n",
       "  'answer_orig': \"The process is automated now, so you should receive the email eventually. If you haven’t, check your promotions tab in Gmail as well as spam.\\nIf you unsubscribed from our newsletter, you won't get course related updates too.\\nBut don't worry, it’s not a problem. To make sure you don’t miss anything, join the #course-ml-zoomcamp channel in Slack and our telegram channel with announcements. This is enough to follow the course.\",\n",
       "  'document': '6ba259b1',\n",
       "  'question': \"How can I stay informed about the course if I'm having email issues?\",\n",
       "  'course': 'machine-learning-zoomcamp'},\n",
       " {'answer_llm': 'The duration of the course is approximately 4 months, but it may take longer if you decide to do extra activities like an additional project or article.',\n",
       "  'answer_orig': 'Approximately 4 months, but may take more if you want to do some extra activities (an extra project, an article, etc)',\n",
       "  'document': '67e2fd13',\n",
       "  'question': 'What is the duration of the course?',\n",
       "  'course': 'machine-learning-zoomcamp'},\n",
       " {'answer_llm': 'The course takes approximately 4 months to complete.',\n",
       "  'answer_orig': 'Approximately 4 months, but may take more if you want to do some extra activities (an extra project, an article, etc)',\n",
       "  'document': '67e2fd13',\n",
       "  'question': 'How many months does the course take?',\n",
       "  'course': 'machine-learning-zoomcamp'},\n",
       " {'answer_llm': 'Based on the information provided, the course typically lasts approximately 4 months but may take more time if you choose to do extra activities like an extra project or an article.',\n",
       "  'answer_orig': 'Approximately 4 months, but may take more if you want to do some extra activities (an extra project, an article, etc)',\n",
       "  'document': '67e2fd13',\n",
       "  'question': 'Can the course take more than 4 months?',\n",
       "  'course': 'machine-learning-zoomcamp'},\n",
       " {'answer_llm': 'Based on the information provided, it is possible to extend the course duration by taking on extra activities such as an extra project or an article. The course typically lasts approximately 4 months, but can take longer if additional tasks are pursued.',\n",
       "  'answer_orig': 'Approximately 4 months, but may take more if you want to do some extra activities (an extra project, an article, etc)',\n",
       "  'document': '67e2fd13',\n",
       "  'question': 'Is it possible to extend the course duration?',\n",
       "  'course': 'machine-learning-zoomcamp'},\n",
       " {'answer_llm': 'Extra activities that might extend the course time include an extra project or writing an article.',\n",
       "  'answer_orig': 'Approximately 4 months, but may take more if you want to do some extra activities (an extra project, an article, etc)',\n",
       "  'document': '67e2fd13',\n",
       "  'question': 'What extra activities might extend the course time?',\n",
       "  'course': 'machine-learning-zoomcamp'},\n",
       " {'answer_llm': 'Based on the analysis conducted by Timur Kamaliev for the previous cohort, students typically need to spend around 10 hours per week on different modules and projects for this course.',\n",
       "  'answer_orig': 'Around ~10 hours per week. Timur Kamaliev did a detailed analysis of how much time students of the previous cohort needed to spend on different modules and projects. Full article',\n",
       "  'document': 'a6897e8c',\n",
       "  'question': 'How many hours per week should I allocate for this course?',\n",
       "  'course': 'machine-learning-zoomcamp'},\n",
       " {'answer_llm': 'Timur Kamaliev analyzed the time needed for different modules.',\n",
       "  'answer_orig': 'Around ~10 hours per week. Timur Kamaliev did a detailed analysis of how much time students of the previous cohort needed to spend on different modules and projects. Full article',\n",
       "  'document': 'a6897e8c',\n",
       "  'question': 'Who analyzed the time needed for different modules?',\n",
       "  'course': 'machine-learning-zoomcamp'},\n",
       " {'answer_llm': 'I need around ~10 hours per week for this course, based on the analysis done by Timur Kamaliev on the time students of the previous cohort spent on different modules and projects.',\n",
       "  'answer_orig': 'Around ~10 hours per week. Timur Kamaliev did a detailed analysis of how much time students of the previous cohort needed to spend on different modules and projects. Full article',\n",
       "  'document': 'a6897e8c',\n",
       "  'question': 'How much time did students of the previous cohort spend weekly?',\n",
       "  'course': 'machine-learning-zoomcamp'},\n",
       " {'answer_llm': 'Based on the information provided in the CONTEXT, students typically spend around 10 hours per week on the course.',\n",
       "  'answer_orig': 'Around ~10 hours per week. Timur Kamaliev did a detailed analysis of how much time students of the previous cohort needed to spend on different modules and projects. Full article',\n",
       "  'document': 'a6897e8c',\n",
       "  'question': 'Can you give an estimated weekly time commitment for the course?',\n",
       "  'course': 'machine-learning-zoomcamp'},\n",
       " {'answer_llm': 'Based on the detailed analysis by Timur Kamaliev, students of the previous cohort needed to spend around ~10 hours per week on different modules and projects in this course. You can find the full article for a more detailed analysis.',\n",
       "  'answer_orig': 'Around ~10 hours per week. Timur Kamaliev did a detailed analysis of how much time students of the previous cohort needed to spend on different modules and projects. Full article',\n",
       "  'document': 'a6897e8c',\n",
       "  'question': 'Where can I find the detailed analysis of study time requirements?',\n",
       "  'course': 'machine-learning-zoomcamp'},\n",
       " {'answer_llm': 'To earn a certificate in this course, you need to submit 2 out of 3 course projects and review 3 peers’ projects. If you join the course late and manage to work on two projects by the deadline, you will still be eligible for a certificate.',\n",
       "  'answer_orig': 'Yes, if you finish at least 2 out of 3 projects and review 3 peers’ Projects by the deadline, you will get a certificate. This is what it looks like: link. There’s also a version without a robot: link.',\n",
       "  'document': '2eba08e3',\n",
       "  'question': 'How can I earn a certificate in this course?',\n",
       "  'course': 'machine-learning-zoomcamp'},\n",
       " {'answer_llm': \"To receive a certificate for the course, you need to submit at least 2 out of the 3 course projects and review 3 peers' projects for each submission by the deadline. Only submitting two projects and peer-reviewing at least 3 course-mates' projects for each submission is sufficient to receive the certificate according to the course coordinator.\",\n",
       "  'answer_orig': 'Yes, if you finish at least 2 out of 3 projects and review 3 peers’ Projects by the deadline, you will get a certificate. This is what it looks like: link. There’s also a version without a robot: link.',\n",
       "  'document': '2eba08e3',\n",
       "  'question': 'What are the requirements to receive a certificate?',\n",
       "  'course': 'machine-learning-zoomcamp'},\n",
       " {'answer_llm': 'No, you do not need to complete all projects to get a certificate. Only two projects need to be submitted to be eligible for a certificate in the course.',\n",
       "  'answer_orig': 'Yes, if you finish at least 2 out of 3 projects and review 3 peers’ Projects by the deadline, you will get a certificate. This is what it looks like: link. There’s also a version without a robot: link.',\n",
       "  'document': '2eba08e3',\n",
       "  'question': 'Do I need to complete all projects to get a certificate?',\n",
       "  'course': 'machine-learning-zoomcamp'},\n",
       " {'answer_llm': \"The deadline to qualify for the certificate is to submit 2 out of 3 course projects and review 3 peers' projects by the deadline. Only two projects are needed to get the course certificate.\",\n",
       "  'answer_orig': 'Yes, if you finish at least 2 out of 3 projects and review 3 peers’ Projects by the deadline, you will get a certificate. This is what it looks like: link. There’s also a version without a robot: link.',\n",
       "  'document': '2eba08e3',\n",
       "  'question': 'What is the deadline to qualify for the certificate?',\n",
       "  'course': 'machine-learning-zoomcamp'},\n",
       " {'answer_llm': 'Yes, there is an option for a certificate without a robot image.',\n",
       "  'answer_orig': 'Yes, if you finish at least 2 out of 3 projects and review 3 peers’ Projects by the deadline, you will get a certificate. This is what it looks like: link. There’s also a version without a robot: link.',\n",
       "  'document': '2eba08e3',\n",
       "  'question': 'Is there an option for a certificate without a robot image?',\n",
       "  'course': 'machine-learning-zoomcamp'},\n",
       " {'answer_llm': \"Yes, you will still receive a certificate if you do not complete the midterm project. As long as you finish at least 2 out of 3 projects and review 3 peers' projects by the deadline, you will be eligible for the certificate.\",\n",
       "  'answer_orig': \"Yes, it's possible. See the previous answer.\",\n",
       "  'document': '1d644223',\n",
       "  'question': \"Will I receive a certificate if I don't complete the midterm project?\",\n",
       "  'course': 'machine-learning-zoomcamp'},\n",
       " {'answer_llm': 'Based on the information provided, you can still graduate without submitting the midterm project. To get a certificate, you need to submit at least 2 out of 3 projects and review 3 peers’ Projects by the deadline. As long as you meet these requirements, you will be eligible for a certificate.',\n",
       "  'answer_orig': \"Yes, it's possible. See the previous answer.\",\n",
       "  'document': '1d644223',\n",
       "  'question': 'Can I still graduate without submitting the midterm project?',\n",
       "  'course': 'machine-learning-zoomcamp'},\n",
       " {'answer_llm': 'Based on the information provided, you are eligible for certification even if you missed the midterm project. To receive a certificate, you need to finish at least 2 out of 3 projects and review 3 peers’ projects by the deadline.',\n",
       "  'answer_orig': \"Yes, it's possible. See the previous answer.\",\n",
       "  'document': '1d644223',\n",
       "  'question': 'Am I eligible for certification if I missed the midterm project?',\n",
       "  'course': 'machine-learning-zoomcamp'},\n",
       " {'answer_llm': 'No, it is not mandatory to complete the midterm project for the certificate. You need to submit 2 out of 3 course projects and review 3 peers’ projects by the deadline to be eligible for a certificate.',\n",
       "  'answer_orig': \"Yes, it's possible. See the previous answer.\",\n",
       "  'document': '1d644223',\n",
       "  'question': 'Is it mandatory to complete the midterm project for the certificate?',\n",
       "  'course': 'machine-learning-zoomcamp'},\n",
       " {'answer_llm': \"No, missing the midterm project does not affect your certification eligibility. You only need to submit at least 2 out of 3 projects and review 3 peers' projects to be eligible for a certificate.\",\n",
       "  'answer_orig': \"Yes, it's possible. See the previous answer.\",\n",
       "  'document': '1d644223',\n",
       "  'question': 'Does missing the midterm project affect my certification eligibility?',\n",
       "  'course': 'machine-learning-zoomcamp'},\n",
       " {'answer_llm': 'Based on the context provided, the Python basics required for this course include knowing how to run a Jupyter notebook, import libraries, declare variables, and perform important operations related to data analysis. The course also recommends using Python 3.10 for the best experience.',\n",
       "  'answer_orig': 'Check this article. If you know everything in this article, you know enough. If you don’t, read the article and join the coursIntroduction to Pythone too :)\\nIntroduction to Python – Machine Learning Bookcamp\\nYou can follow this English course from the OpenClassrooms e-learning platform, which is free and covers the python basics for data analysis: Learn Python Basics for Data Analysis - OpenClassrooms . It is important to know some basics such as: how to run a Jupyter notebook, how to import libraries (and what libraries are), how to declare a variable (and what variables are) and some important operations regarding data analysis.\\n(Mélanie Fouesnard)',\n",
       "  'document': '14890cd2',\n",
       "  'question': 'What Python basics are required for this course?',\n",
       "  'course': 'machine-learning-zoomcamp'},\n",
       " {'answer_llm': 'Based on the information provided, you can learn the necessary Python knowledge for this course by checking the article \"Introduction to Python – Machine Learning Bookcamp\" and by following the free course on OpenClassrooms that covers Python basics for data analysis. It is important to know how to run a Jupyter notebook, import libraries, declare variables, and perform important operations for data analysis using Python.',\n",
       "  'answer_orig': 'Check this article. If you know everything in this article, you know enough. If you don’t, read the article and join the coursIntroduction to Pythone too :)\\nIntroduction to Python – Machine Learning Bookcamp\\nYou can follow this English course from the OpenClassrooms e-learning platform, which is free and covers the python basics for data analysis: Learn Python Basics for Data Analysis - OpenClassrooms . It is important to know some basics such as: how to run a Jupyter notebook, how to import libraries (and what libraries are), how to declare a variable (and what variables are) and some important operations regarding data analysis.\\n(Mélanie Fouesnard)',\n",
       "  'document': '14890cd2',\n",
       "  'question': 'Where can I learn the necessary Python knowledge for this course?',\n",
       "  'course': 'machine-learning-zoomcamp'},\n",
       " {'answer_llm': 'It is important to know how to run a Jupyter notebook for this course because the training jobs in real life usually involve running a python script for training a model, which is much simpler than running a notebook.',\n",
       "  'answer_orig': 'Check this article. If you know everything in this article, you know enough. If you don’t, read the article and join the coursIntroduction to Pythone too :)\\nIntroduction to Python – Machine Learning Bookcamp\\nYou can follow this English course from the OpenClassrooms e-learning platform, which is free and covers the python basics for data analysis: Learn Python Basics for Data Analysis - OpenClassrooms . It is important to know some basics such as: how to run a Jupyter notebook, how to import libraries (and what libraries are), how to declare a variable (and what variables are) and some important operations regarding data analysis.\\n(Mélanie Fouesnard)',\n",
       "  'document': '14890cd2',\n",
       "  'question': 'Why is it important to know how to run a Jupyter notebook for this course?',\n",
       "  'course': 'machine-learning-zoomcamp'},\n",
       " {'answer_llm': 'Based on the context provided, for this course on data analysis, you should know the basics such as how to run a Jupyter notebook, how to import libraries, how to declare a variable, and some important operations regarding data analysis.',\n",
       "  'answer_orig': 'Check this article. If you know everything in this article, you know enough. If you don’t, read the article and join the coursIntroduction to Pythone too :)\\nIntroduction to Python – Machine Learning Bookcamp\\nYou can follow this English course from the OpenClassrooms e-learning platform, which is free and covers the python basics for data analysis: Learn Python Basics for Data Analysis - OpenClassrooms . It is important to know some basics such as: how to run a Jupyter notebook, how to import libraries (and what libraries are), how to declare a variable (and what variables are) and some important operations regarding data analysis.\\n(Mélanie Fouesnard)',\n",
       "  'document': '14890cd2',\n",
       "  'question': 'What basic operations regarding data analysis should I know for this course?',\n",
       "  'course': 'machine-learning-zoomcamp'},\n",
       " {'answer_llm': 'To learn how to declare variables in Python for this course, it is important to have some basic knowledge such as how to run a Jupyter notebook, how to import libraries, what variables are and how to declare them, and some important operations regarding data analysis. You can also check the article \"Introduction to Python - Machine Learning Bookcamp\" for more insights.',\n",
       "  'answer_orig': 'Check this article. If you know everything in this article, you know enough. If you don’t, read the article and join the coursIntroduction to Pythone too :)\\nIntroduction to Python – Machine Learning Bookcamp\\nYou can follow this English course from the OpenClassrooms e-learning platform, which is free and covers the python basics for data analysis: Learn Python Basics for Data Analysis - OpenClassrooms . It is important to know some basics such as: how to run a Jupyter notebook, how to import libraries (and what libraries are), how to declare a variable (and what variables are) and some important operations regarding data analysis.\\n(Mélanie Fouesnard)',\n",
       "  'document': '14890cd2',\n",
       "  'question': 'How can I learn to declare variables in Python for this course?',\n",
       "  'course': 'machine-learning-zoomcamp'},\n",
       " {'answer_llm': 'Based on the provided information, for the Machine Learning part of the course, all you need is a working laptop with an internet connection. For the Deep Learning part, which is more resource intensive, you can use a cloud service such as Saturn cloud or any other cloud service.',\n",
       "  'answer_orig': 'For the Machine Learning part, all you need is a working laptop with an internet connection. The Deep Learning part is more resource intensive, but for that you can use a cloud (we use Saturn cloud but can be anything else).\\n(Rileen Sinha; based on response by Alexey on Slack)',\n",
       "  'document': 'a4fad482',\n",
       "  'question': 'Are there any specific hardware requirements for the course, or is everything mainly based on cloud services?',\n",
       "  'course': 'machine-learning-zoomcamp'},\n",
       " {'answer_llm': 'No, for the Machine Learning section of the course, all you need is a working laptop with an internet connection.',\n",
       "  'answer_orig': 'For the Machine Learning part, all you need is a working laptop with an internet connection. The Deep Learning part is more resource intensive, but for that you can use a cloud (we use Saturn cloud but can be anything else).\\n(Rileen Sinha; based on response by Alexey on Slack)',\n",
       "  'document': 'a4fad482',\n",
       "  'question': 'Do I just need a laptop and internet for the Machine Learning section?',\n",
       "  'course': 'machine-learning-zoomcamp'},\n",
       " {'answer_llm': 'Based on the information provided in the CONTEXT, the Deep Learning part of the course is indeed more resource-intensive than the Machine Learning part. The Deep Learning part can be done using a cloud service like Saturn cloud, while for the Machine Learning part, all you need is a working laptop with an internet connection.',\n",
       "  'answer_orig': 'For the Machine Learning part, all you need is a working laptop with an internet connection. The Deep Learning part is more resource intensive, but for that you can use a cloud (we use Saturn cloud but can be anything else).\\n(Rileen Sinha; based on response by Alexey on Slack)',\n",
       "  'document': 'a4fad482',\n",
       "  'question': 'Is the Deep Learning part of the course more resource-intensive than the Machine Learning part?',\n",
       "  'course': 'machine-learning-zoomcamp'},\n",
       " {'answer_llm': 'Yes, Saturn Cloud can be used for the Deep Learning part of the course.',\n",
       "  'answer_orig': 'For the Machine Learning part, all you need is a working laptop with an internet connection. The Deep Learning part is more resource intensive, but for that you can use a cloud (we use Saturn cloud but can be anything else).\\n(Rileen Sinha; based on response by Alexey on Slack)',\n",
       "  'document': 'a4fad482',\n",
       "  'question': 'Can Saturn Cloud be used for the Deep Learning part of the course?',\n",
       "  'course': 'machine-learning-zoomcamp'},\n",
       " {'answer_llm': 'Yes, it is possible to use a cloud service other than Saturn Cloud for the Deep Learning section. You can use AWS (Amazon) or GCP (Google) as free cloud alternatives mentioned in the Miscellaneous section of the FAQ.',\n",
       "  'answer_orig': 'For the Machine Learning part, all you need is a working laptop with an internet connection. The Deep Learning part is more resource intensive, but for that you can use a cloud (we use Saturn cloud but can be anything else).\\n(Rileen Sinha; based on response by Alexey on Slack)',\n",
       "  'document': 'a4fad482',\n",
       "  'question': 'Is it possible to use a cloud service other than Saturn Cloud for the Deep Learning section?',\n",
       "  'course': 'machine-learning-zoomcamp'},\n",
       " {'answer_llm': 'To install TensorFlow GPU on Ubuntu, you can follow the article at this link: https://knowmledge.com/2023/12/07/ml-zoomcamp-2023-project/.',\n",
       "  'answer_orig': 'Here is an article that worked for me: https://knowmledge.com/2023/12/07/ml-zoomcamp-2023-project/',\n",
       "  'document': '34b7fd35',\n",
       "  'question': 'Where can I find instructions to install TensorFlow GPU on Ubuntu?',\n",
       "  'course': 'machine-learning-zoomcamp'},\n",
       " {'answer_llm': 'Yes, there is a guide available for setting up TensorFlow with GPU support on Ubuntu. You can refer to this article: https://knowmledge.com/2023/12/07/ml-zoomcamp-2023-project/',\n",
       "  'answer_orig': 'Here is an article that worked for me: https://knowmledge.com/2023/12/07/ml-zoomcamp-2023-project/',\n",
       "  'document': '34b7fd35',\n",
       "  'question': 'Is there a guide to set up TensorFlow with GPU on Ubuntu?',\n",
       "  'course': 'machine-learning-zoomcamp'},\n",
       " {'answer_llm': \"To configure GPU support for TensorFlow on your Ubuntu machine, you'll need to install CUDA and cuDNN. You can follow a simplified guide provided by Osman Ali for setting up CUDA and cuDNN, which are necessary for running TensorFlow with GPU support on your local machine.\",\n",
       "  'answer_orig': 'Here is an article that worked for me: https://knowmledge.com/2023/12/07/ml-zoomcamp-2023-project/',\n",
       "  'document': '34b7fd35',\n",
       "  'question': 'How do I configure GPU support for TensorFlow on my Ubuntu machine?',\n",
       "  'course': 'machine-learning-zoomcamp'},\n",
       " {'answer_llm': 'Yes, you can refer to this article for a guide on how to set up TensorFlow with GPU support on Ubuntu: https://knowmledge.com/2023/12/07/ml-zoomcamp-2023-project/',\n",
       "  'answer_orig': 'Here is an article that worked for me: https://knowmledge.com/2023/12/07/ml-zoomcamp-2023-project/',\n",
       "  'document': '34b7fd35',\n",
       "  'question': 'Can you direct me to a resource for installing TensorFlow with GPU on Ubuntu?',\n",
       "  'course': 'machine-learning-zoomcamp'},\n",
       " {'answer_llm': 'To set up TensorFlow with GPU support on Ubuntu, you need to first install CUDA and cuDNN. You can simplify the process by following a guide provided by Osman Ali in the article recommended here: https://knowmledge.com/2023/12/07/ml-zoomcamp-2023-project/.',\n",
       "  'answer_orig': 'Here is an article that worked for me: https://knowmledge.com/2023/12/07/ml-zoomcamp-2023-project/',\n",
       "  'document': '34b7fd35',\n",
       "  'question': 'What is the procedure to set up TensorFlow GPU on Ubuntu?',\n",
       "  'course': 'machine-learning-zoomcamp'},\n",
       " {'answer_llm': \"To join a channel in Slack, you can follow these steps:\\n1. Click “All channels” at the top of your left sidebar. If you don't see this option, click “More” to find it.\\n2. Browse the list of public channels in your workspace, or use the search bar to search by channel name or description.\\n3. Select a channel from the list to view it.\\n4. Click Join Channel.\",\n",
       "  'answer_orig': \"Here’s how you join a in Slack: https://slack.com/help/articles/205239967-Join-a-channel\\nClick “All channels” at the top of your left sidebar. If you don't see this option, click “More” to find it.\\nBrowse the list of public channels in your workspace, or use the search bar to search by channel name or description.\\nSelect a channel from the list to view it.\\nClick Join Channel.\\nDo we need to provide the GitHub link to only our code corresponding to the homework questions?\\nYes. You are required to provide the URL to your repo in order to receive a grade\",\n",
       "  'document': '4930aa19',\n",
       "  'question': 'How can I join a channel in Slack?',\n",
       "  'course': 'machine-learning-zoomcamp'},\n",
       " {'answer_llm': \"To find the course channel on Slack, click “All channels” at the top of your left sidebar. If you don't see this option, click “More” to find it. Browse the list of public channels in your workspace, or use the search bar to search by channel name or description. Then select a channel from the list to view it and click Join Channel.\",\n",
       "  'answer_orig': \"Here’s how you join a in Slack: https://slack.com/help/articles/205239967-Join-a-channel\\nClick “All channels” at the top of your left sidebar. If you don't see this option, click “More” to find it.\\nBrowse the list of public channels in your workspace, or use the search bar to search by channel name or description.\\nSelect a channel from the list to view it.\\nClick Join Channel.\\nDo we need to provide the GitHub link to only our code corresponding to the homework questions?\\nYes. You are required to provide the URL to your repo in order to receive a grade\",\n",
       "  'document': '4930aa19',\n",
       "  'question': 'What steps should I follow to find course channels on Slack?',\n",
       "  'course': 'machine-learning-zoomcamp'},\n",
       " {'answer_llm': 'No, there is no need to give the URL to your GitHub repo for the homework correction process. The GitHub repository needs to be public so that whoever corrects the homework can access the link.',\n",
       "  'answer_orig': \"Here’s how you join a in Slack: https://slack.com/help/articles/205239967-Join-a-channel\\nClick “All channels” at the top of your left sidebar. If you don't see this option, click “More” to find it.\\nBrowse the list of public channels in your workspace, or use the search bar to search by channel name or description.\\nSelect a channel from the list to view it.\\nClick Join Channel.\\nDo we need to provide the GitHub link to only our code corresponding to the homework questions?\\nYes. You are required to provide the URL to your repo in order to receive a grade\",\n",
       "  'document': '4930aa19',\n",
       "  'question': 'Is there a need to give the URL to our GitHub repo?',\n",
       "  'course': 'machine-learning-zoomcamp'},\n",
       " {'answer_llm': 'You need to provide the GitHub URL for your homework, and it needs to be public so that whoever corrects the homework can access the link.',\n",
       "  'answer_orig': \"Here’s how you join a in Slack: https://slack.com/help/articles/205239967-Join-a-channel\\nClick “All channels” at the top of your left sidebar. If you don't see this option, click “More” to find it.\\nBrowse the list of public channels in your workspace, or use the search bar to search by channel name or description.\\nSelect a channel from the list to view it.\\nClick Join Channel.\\nDo we need to provide the GitHub link to only our code corresponding to the homework questions?\\nYes. You are required to provide the URL to your repo in order to receive a grade\",\n",
       "  'document': '4930aa19',\n",
       "  'question': 'Where do I provide the GitHub URL for our homework?',\n",
       "  'course': 'machine-learning-zoomcamp'},\n",
       " {'answer_llm': 'Based on the context provided, to join a Slack channel, you need to click \"All channels\" at the top of your left sidebar, browse the list of public channels in your workspace, or use the search bar to search by channel name or description, select a channel from the list to view it, and then click \"Join Channel.\"',\n",
       "  'answer_orig': \"Here’s how you join a in Slack: https://slack.com/help/articles/205239967-Join-a-channel\\nClick “All channels” at the top of your left sidebar. If you don't see this option, click “More” to find it.\\nBrowse the list of public channels in your workspace, or use the search bar to search by channel name or description.\\nSelect a channel from the list to view it.\\nClick Join Channel.\\nDo we need to provide the GitHub link to only our code corresponding to the homework questions?\\nYes. You are required to provide the URL to your repo in order to receive a grade\",\n",
       "  'document': '4930aa19',\n",
       "  'question': 'Can you show me how to join a Slack channel?',\n",
       "  'course': 'machine-learning-zoomcamp'},\n",
       " {'answer_llm': 'Based on the context provided, if a student joins the course late, they can still participate. They may not be able to submit some homeworks, but they can still take part in the course. In order to get a certificate, they need to submit 2 out of 3 course projects and review 3 peers’ projects by the deadline. So, even if a student joined late and missed the midterm project, they can still be eligible for a certificate if they complete the required projects and reviews.',\n",
       "  'answer_orig': 'Yes, you can. You won’t be able to submit some of the homeworks, but you can still take part in the course.\\nIn order to get a certificate, you need to submit 2 out of 3 course projects and review 3 peers’ Projects by the deadline. It means that if you join the course at the end of November and manage to work on two projects, you will still be eligible for a certificate.',\n",
       "  'document': 'ee58a693',\n",
       "  'question': 'If I join the course late, can I still participate?',\n",
       "  'course': 'machine-learning-zoomcamp'},\n",
       " {'answer_llm': \"Based on the information provided, yes, you will be able to obtain a certificate even if you join the course after it has started. As long as you finish at least 2 out of 3 projects and review 3 peers' projects by the deadline, you will still be eligible for a certificate.\",\n",
       "  'answer_orig': 'Yes, you can. You won’t be able to submit some of the homeworks, but you can still take part in the course.\\nIn order to get a certificate, you need to submit 2 out of 3 course projects and review 3 peers’ Projects by the deadline. It means that if you join the course at the end of November and manage to work on two projects, you will still be eligible for a certificate.',\n",
       "  'document': 'ee58a693',\n",
       "  'question': 'Will I be able to obtain a certificate if I join the course after it has started?',\n",
       "  'course': 'machine-learning-zoomcamp'},\n",
       " {'answer_llm': \"Based on the information provided in the context, you need to submit at least 2 out of 3 course projects and review 3 peers' projects for each submission by the deadline to be eligible for a certificate.\",\n",
       "  'answer_orig': 'Yes, you can. You won’t be able to submit some of the homeworks, but you can still take part in the course.\\nIn order to get a certificate, you need to submit 2 out of 3 course projects and review 3 peers’ Projects by the deadline. It means that if you join the course at the end of November and manage to work on two projects, you will still be eligible for a certificate.',\n",
       "  'document': 'ee58a693',\n",
       "  'question': 'How many course projects must I submit to be eligible for a certificate?',\n",
       "  'course': 'machine-learning-zoomcamp'},\n",
       " {'answer_llm': \"The requirement for peer reviews to get a certificate is to review 3 peers' Projects by the deadline.\",\n",
       "  'answer_orig': 'Yes, you can. You won’t be able to submit some of the homeworks, but you can still take part in the course.\\nIn order to get a certificate, you need to submit 2 out of 3 course projects and review 3 peers’ Projects by the deadline. It means that if you join the course at the end of November and manage to work on two projects, you will still be eligible for a certificate.',\n",
       "  'document': 'ee58a693',\n",
       "  'question': 'What is the requirement for peer reviews to get a certificate?',\n",
       "  'course': 'machine-learning-zoomcamp'},\n",
       " {'answer_llm': \"Based on the context provided, if a student joins the course after it has already started, they can still participate in the course but may not be able to submit some homework assignments. However, in order to receive a certificate, they would need to submit 2 out of 3 course projects and review 3 peers' projects by the deadline. So, even if a student joins the course late, as long as they complete these requirements, they will still be eligible for a certificate.\",\n",
       "  'answer_orig': 'Yes, you can. You won’t be able to submit some of the homeworks, but you can still take part in the course.\\nIn order to get a certificate, you need to submit 2 out of 3 course projects and review 3 peers’ Projects by the deadline. It means that if you join the course at the end of November and manage to work on two projects, you will still be eligible for a certificate.',\n",
       "  'document': 'ee58a693',\n",
       "  'question': 'Can I submit homework if I join the course after it has started?',\n",
       "  'course': 'machine-learning-zoomcamp'}]"
      ]
     },
     "execution_count": 75,
     "metadata": {},
     "output_type": "execute_result"
    }
   ],
   "source": [
    "results_gpt35"
   ]
  },
  {
   "cell_type": "code",
   "execution_count": 76,
   "id": "3c5231e1-75a6-4741-a3f8-8dbab57d7250",
   "metadata": {},
   "outputs": [],
   "source": [
    "df_gpt35 = pd.DataFrame(results_gpt35)\n",
    "df_gpt35.to_csv('data/results-gpt35.csv', index=False)"
   ]
  },
  {
   "cell_type": "code",
   "execution_count": 77,
   "id": "c3fb2a2a-af78-43ff-9767-1a9bd301f376",
   "metadata": {},
   "outputs": [
    {
     "name": "stdout",
     "output_type": "stream",
     "text": [
      "answer_llm,answer_orig,document,question,course\n",
      "\"You can sign up for the course by going to the course page at http://mlzoomcamp.com/#syllabus. From there, you can access the course materials and start going through the videos and cohort folders for your cohort's year.\",\"Machine Learning Zoomcamp FAQ\n",
      "The purpose of this document is to capture frequently asked technical questions.\n",
      "We did this for our data engineering course and it worked quite well. Check this document for inspiration on how to structure your questions and answers:\n",
      "Data Engineering Zoomcamp FAQ\n",
      "In the course GitHub repository there’s a link. Here it is: https://airtable.com/shryxwLd0COOEaqXo\n",
      "work\",0227b872,Where can I sign up for the course?,machine-learning-zoomcamp\n",
      "\"No, I cannot provide a link to sign up. The link for signing up can be found in the course GitHub repository: https://airtable.com/shryxwLd0COOEaqXo.\",\"Machine Learning Zoomcamp FAQ\n",
      "The purpose of this document is to capture frequently asked technical questions.\n",
      "We did this for our data engineering course and it worked quite well. Check this document for inspiration on how to structure your questions and answers:\n"
     ]
    },
    {
     "name": "stderr",
     "output_type": "stream",
     "text": [
      "huggingface/tokenizers: The current process just got forked, after parallelism has already been used. Disabling parallelism to avoid deadlocks...\n",
      "To disable this warning, you can either:\n",
      "\t- Avoid using `tokenizers` before the fork if possible\n",
      "\t- Explicitly set the environment variable TOKENIZERS_PARALLELISM=(true | false)\n"
     ]
    }
   ],
   "source": [
    "!head data/results-gpt35.csv"
   ]
  },
  {
   "cell_type": "markdown",
   "id": "50191db7-a5be-4187-afc8-d3f75e80c106",
   "metadata": {},
   "source": [
    "## cosine Similarity gpt3.5 turbo ##   "
   ]
  },
  {
   "cell_type": "code",
   "execution_count": 81,
   "id": "3d29a1d2-e78c-4e91-9bf5-3847ca833772",
   "metadata": {},
   "outputs": [],
   "source": [
    "results_gpt35 = df_gpt35.to_dict(orient='records')"
   ]
  },
  {
   "cell_type": "code",
   "execution_count": 82,
   "id": "c524eb70-651d-49bf-ba57-68aec4e89d03",
   "metadata": {},
   "outputs": [
    {
     "data": {
      "text/plain": [
       "75"
      ]
     },
     "execution_count": 82,
     "metadata": {},
     "output_type": "execute_result"
    }
   ],
   "source": [
    "len(results_gpt35)"
   ]
  },
  {
   "cell_type": "code",
   "execution_count": 83,
   "id": "36600946-2633-4b0d-ac04-15c4a507373c",
   "metadata": {},
   "outputs": [
    {
     "data": {
      "text/plain": [
       "{'answer_llm': \"You can sign up for the course by going to the course page at http://mlzoomcamp.com/#syllabus. From there, you can access the course materials and start going through the videos and cohort folders for your cohort's year.\",\n",
       " 'answer_orig': 'Machine Learning Zoomcamp FAQ\\nThe purpose of this document is to capture frequently asked technical questions.\\nWe did this for our data engineering course and it worked quite well. Check this document for inspiration on how to structure your questions and answers:\\nData Engineering Zoomcamp FAQ\\nIn the course GitHub repository there’s a link. Here it is: https://airtable.com/shryxwLd0COOEaqXo\\nwork',\n",
       " 'document': '0227b872',\n",
       " 'question': 'Where can I sign up for the course?',\n",
       " 'course': 'machine-learning-zoomcamp'}"
      ]
     },
     "execution_count": 83,
     "metadata": {},
     "output_type": "execute_result"
    }
   ],
   "source": [
    "results_gpt35[0]"
   ]
  },
  {
   "cell_type": "code",
   "execution_count": 87,
   "id": "b0733a45-e7e0-4020-baf3-6bfe23488975",
   "metadata": {},
   "outputs": [
    {
     "data": {
      "application/vnd.jupyter.widget-view+json": {
       "model_id": "083be41cc217441b8f5d82c015419647",
       "version_major": 2,
       "version_minor": 0
      },
      "text/plain": [
       "  0%|          | 0/75 [00:00<?, ?it/s]"
      ]
     },
     "metadata": {},
     "output_type": "display_data"
    }
   ],
   "source": [
    "similarity_35 = []\n",
    "for record in tqdm(results_gpt35):\n",
    "    sim = compute_similarity(record)\n",
    "    similarity_35.append(sim)"
   ]
  },
  {
   "cell_type": "code",
   "execution_count": 89,
   "id": "464bd789-6bba-49c8-a3a5-16a9fbee0cb7",
   "metadata": {},
   "outputs": [
    {
     "data": {
      "text/plain": [
       "(75, 75)"
      ]
     },
     "execution_count": 89,
     "metadata": {},
     "output_type": "execute_result"
    }
   ],
   "source": [
    "len(similarity), len(similarity_35)"
   ]
  },
  {
   "cell_type": "code",
   "execution_count": 90,
   "id": "0f23595b-d29c-4e7e-8f25-a09384db29ea",
   "metadata": {},
   "outputs": [
    {
     "data": {
      "text/plain": [
       "count    75.000000\n",
       "mean      0.611080\n",
       "std       0.227821\n",
       "min      -0.094383\n",
       "25%       0.507069\n",
       "50%       0.668651\n",
       "75%       0.770926\n",
       "max       0.953446\n",
       "Name: cosine, dtype: float64"
      ]
     },
     "execution_count": 90,
     "metadata": {},
     "output_type": "execute_result"
    }
   ],
   "source": [
    "df_gpt35['cosine'] = similarity_35\n",
    "df_gpt35['cosine'].describe()"
   ]
  },
  {
   "cell_type": "code",
   "execution_count": 91,
   "id": "9c62dae0-acda-4475-b100-9a7b5c73a90d",
   "metadata": {},
   "outputs": [
    {
     "name": "stderr",
     "output_type": "stream",
     "text": [
      "/var/folders/wb/_77j3j256dlc5yrp7_0dxfg40000gn/T/ipykernel_89768/1722685275.py:1: UserWarning: \n",
      "\n",
      "`distplot` is a deprecated function and will be removed in seaborn v0.14.0.\n",
      "\n",
      "Please adapt your code to use either `displot` (a figure-level function with\n",
      "similar flexibility) or `histplot` (an axes-level function for histograms).\n",
      "\n",
      "For a guide to updating your code to use the new functions, please see\n",
      "https://gist.github.com/mwaskom/de44147ed2974457ad6372750bbe5751\n",
      "\n",
      "  sns.distplot(df_gpt4o['cosine'], label='4o')\n",
      "/var/folders/wb/_77j3j256dlc5yrp7_0dxfg40000gn/T/ipykernel_89768/1722685275.py:2: UserWarning: \n",
      "\n",
      "`distplot` is a deprecated function and will be removed in seaborn v0.14.0.\n",
      "\n",
      "Please adapt your code to use either `displot` (a figure-level function with\n",
      "similar flexibility) or `histplot` (an axes-level function for histograms).\n",
      "\n",
      "For a guide to updating your code to use the new functions, please see\n",
      "https://gist.github.com/mwaskom/de44147ed2974457ad6372750bbe5751\n",
      "\n",
      "  sns.distplot(df_gpt35['cosine'], label='35')\n"
     ]
    },
    {
     "data": {
      "text/plain": [
       "<matplotlib.legend.Legend at 0x3032512b0>"
      ]
     },
     "execution_count": 91,
     "metadata": {},
     "output_type": "execute_result"
    },
    {
     "data": {
      "image/png": "[encoded data removed]",
      "text/plain": [
       "<Figure size 640x480 with 1 Axes>"
      ]
     },
     "metadata": {},
     "output_type": "display_data"
    }
   ],
   "source": [
    "sns.distplot(df_gpt4o['cosine'], label='4o')\n",
    "sns.distplot(df_gpt35['cosine'], label='35')\n",
    "plt.title(\"RAG LLM performance\")\n",
    "plt.xlabel(\"A->Q->A' Cosine Similarity\")\n",
    "plt.legend()"
   ]
  },
  {
   "cell_type": "markdown",
   "id": "efc35a26-374a-48cd-a920-f5d8af95b76e",
   "metadata": {},
   "source": [
    "## LLM-as-a-judge ##"
   ]
  },
  {
   "cell_type": "code",
   "execution_count": 93,
   "id": "1e9e5b7d-34df-47cf-94f4-8f44e4df5d49",
   "metadata": {},
   "outputs": [],
   "source": [
    "prompt1_template = \"\"\"\n",
    "You are an expert evaluator for a Retrieval-Augmented Generation (RAG) system.\n",
    "Your task is to analyze the relevance of the generated answer compared to the original answer provided.\n",
    "Based on the relevance and similarity of the generated answer to the original answer, you will classify\n",
    "it as \"NON_RELEVANT\", \"PARTLY_RELEVANT\", or \"RELEVANT\".\n",
    "\n",
    "Here is the data for evaluation:\n",
    "\n",
    "Original Answer: {answer_orig}\n",
    "Generated Question: {question}\n",
    "Generated Answer: {answer_llm}\n",
    "\n",
    "Please analyze the content and context of the generated answer in relation to the original\n",
    "answer and provide your evaluation in parsable JSON without using code blocks:\n",
    "\n",
    "{{\n",
    "  \"Relevance\": \"NON_RELEVANT\" | \"PARTLY_RELEVANT\" | \"RELEVANT\",\n",
    "  \"Explanation\": \"[Provide a brief explanation for your evaluation]\"\n",
    "}}\n",
    "\"\"\".strip()"
   ]
  },
  {
   "cell_type": "code",
   "execution_count": 94,
   "id": "6be5edbd-f228-4452-aa23-37cbfa05e59f",
   "metadata": {},
   "outputs": [],
   "source": [
    "prompt2_template = \"\"\"\n",
    "You are an expert evaluator for a Retrieval-Augmented Generation (RAG) system.\n",
    "Your task is to analyze the relevance of the generated answer to the given question.\n",
    "Based on the relevance of the generated answer, you will classify it\n",
    "as \"NON_RELEVANT\", \"PARTLY_RELEVANT\", or \"RELEVANT\".\n",
    "\n",
    "Here is the data for evaluation:\n",
    "\n",
    "Question: {question}\n",
    "Generated Answer: {answer_llm}\n",
    "\n",
    "Please analyze the content and context of the generated answer in relation to the question\n",
    "and provide your evaluation in parsable JSON without using code blocks:\n",
    "\n",
    "{{\n",
    "  \"Relevance\": \"NON_RELEVANT\" | \"PARTLY_RELEVANT\" | \"RELEVANT\",\n",
    "  \"Explanation\": \"[Provide a brief explanation for your evaluation]\"\n",
    "}}\n",
    "\"\"\".strip()"
   ]
  },
  {
   "cell_type": "code",
   "execution_count": 100,
   "id": "f45a8077-a06a-4cb1-8ca8-6644482fd06e",
   "metadata": {},
   "outputs": [],
   "source": [
    "samples = df_gpt4o.to_dict(orient='records')"
   ]
  },
  {
   "cell_type": "code",
   "execution_count": 104,
   "id": "447e7084-bdda-4908-b4f4-cf7d356fc759",
   "metadata": {},
   "outputs": [
    {
     "data": {
      "text/plain": [
       "{'answer_llm': 'You can sign up for the course by going to the course page at [http://mlzoomcamp.com/](http://mlzoomcamp.com/).',\n",
       " 'answer_orig': 'Machine Learning Zoomcamp FAQ\\nThe purpose of this document is to capture frequently asked technical questions.\\nWe did this for our data engineering course and it worked quite well. Check this document for inspiration on how to structure your questions and answers:\\nData Engineering Zoomcamp FAQ\\nIn the course GitHub repository there’s a link. Here it is: https://airtable.com/shryxwLd0COOEaqXo\\nwork',\n",
       " 'document': '0227b872',\n",
       " 'question': 'Where can I sign up for the course?',\n",
       " 'course': 'machine-learning-zoomcamp',\n",
       " 'cosine': 0.4178880453109741}"
      ]
     },
     "execution_count": 104,
     "metadata": {},
     "output_type": "execute_result"
    }
   ],
   "source": [
    "record = samples[0]\n",
    "record"
   ]
  },
  {
   "cell_type": "code",
   "execution_count": 105,
   "id": "d20d12ee-aa66-4f39-876d-63393e7b503a",
   "metadata": {},
   "outputs": [
    {
     "name": "stdout",
     "output_type": "stream",
     "text": [
      "You are an expert evaluator for a Retrieval-Augmented Generation (RAG) system.\n",
      "Your task is to analyze the relevance of the generated answer compared to the original answer provided.\n",
      "Based on the relevance and similarity of the generated answer to the original answer, you will classify\n",
      "it as \"NON_RELEVANT\", \"PARTLY_RELEVANT\", or \"RELEVANT\".\n",
      "\n",
      "Here is the data for evaluation:\n",
      "\n",
      "Original Answer: Machine Learning Zoomcamp FAQ\n",
      "The purpose of this document is to capture frequently asked technical questions.\n",
      "We did this for our data engineering course and it worked quite well. Check this document for inspiration on how to structure your questions and answers:\n",
      "Data Engineering Zoomcamp FAQ\n",
      "In the course GitHub repository there’s a link. Here it is: https://airtable.com/shryxwLd0COOEaqXo\n",
      "work\n",
      "Generated Question: Where can I sign up for the course?\n",
      "Generated Answer: You can sign up for the course by going to the course page at [http://mlzoomcamp.com/](http://mlzoomcamp.com/).\n",
      "\n",
      "Please analyze the content and context of the generated answer in relation to the original\n",
      "answer and provide your evaluation in parsable JSON without using code blocks:\n",
      "\n",
      "{\n",
      "  \"Relevance\": \"NON_RELEVANT\" | \"PARTLY_RELEVANT\" | \"RELEVANT\",\n",
      "  \"Explanation\": \"[Provide a brief explanation for your evaluation]\"\n",
      "}\n"
     ]
    }
   ],
   "source": [
    "prompt = prompt1_template.format(**record)\n",
    "print(prompt)"
   ]
  },
  {
   "cell_type": "code",
   "execution_count": 106,
   "id": "8abb79eb-3ce9-4594-a8ae-3a8722691b30",
   "metadata": {},
   "outputs": [
    {
     "data": {
      "text/plain": [
       "<function __main__.llm(prompt, model='gpt-4o')>"
      ]
     },
     "execution_count": 106,
     "metadata": {},
     "output_type": "execute_result"
    }
   ],
   "source": [
    "llm"
   ]
  },
  {
   "cell_type": "code",
   "execution_count": 108,
   "id": "45abf354-f83c-49e4-be3b-e5455fa10f84",
   "metadata": {},
   "outputs": [
    {
     "data": {
      "text/plain": [
       "'{\\n  \"Relevance\": \"NON_RELEVANT\",\\n  \"Explanation\": \"The original answer provides information about a FAQ document for a machine learning course, with a focus on capturing frequently asked technical questions and referring to a similar resource in a data engineering course. In contrast, the generated answer addresses where to sign up for the course, which is unrelated to the original answer\\'s content about the FAQ document and its intended purpose. Thus, the generated answer is not relevant to the original answer.\"\\n}'"
      ]
     },
     "execution_count": 108,
     "metadata": {},
     "output_type": "execute_result"
    }
   ],
   "source": [
    "answer = llm(prompt, model='gpt-4o')\n",
    "answer"
   ]
  },
  {
   "cell_type": "code",
   "execution_count": 110,
   "id": "bd02bf60-f3bd-4f61-b8eb-d6a25313ad41",
   "metadata": {},
   "outputs": [
    {
     "data": {
      "text/plain": [
       "{'Relevance': 'NON_RELEVANT',\n",
       " 'Explanation': \"The original answer provides information about a FAQ document for a machine learning course, with a focus on capturing frequently asked technical questions and referring to a similar resource in a data engineering course. In contrast, the generated answer addresses where to sign up for the course, which is unrelated to the original answer's content about the FAQ document and its intended purpose. Thus, the generated answer is not relevant to the original answer.\"}"
      ]
     },
     "execution_count": 110,
     "metadata": {},
     "output_type": "execute_result"
    }
   ],
   "source": [
    "import json\n",
    "json.loads(answer)"
   ]
  },
  {
   "cell_type": "code",
   "execution_count": 111,
   "id": "7a7d7e21-2fd3-4727-8b1e-c4c8c6130064",
   "metadata": {},
   "outputs": [
    {
     "data": {
      "application/vnd.jupyter.widget-view+json": {
       "model_id": "97e0daf2cbe94ecc8d245db7c9af9a47",
       "version_major": 2,
       "version_minor": 0
      },
      "text/plain": [
       "  0%|          | 0/75 [00:00<?, ?it/s]"
      ]
     },
     "metadata": {},
     "output_type": "display_data"
    }
   ],
   "source": [
    "evaluations = []\n",
    "for record in tqdm(samples):\n",
    "    prompt = prompt1_template.format(**record)\n",
    "    evaluation = llm(prompt, model='gpt-4o')\n",
    "    evaluations.append(evaluation)"
   ]
  },
  {
   "cell_type": "code",
   "execution_count": 112,
   "id": "a4980bb6-5b37-4491-93c6-4100188313e8",
   "metadata": {},
   "outputs": [],
   "source": [
    "json_evaluations = []\n",
    "\n",
    "for i, str_eval in enumerate(evaluations):\n",
    "    json_eval = json.loads(str_eval)\n",
    "    json_evaluations.append(json_eval)"
   ]
  },
  {
   "cell_type": "code",
   "execution_count": 113,
   "id": "85f18266-f758-4751-8b0e-e4b807ba00a9",
   "metadata": {},
   "outputs": [
    {
     "data": {
      "text/plain": [
       "[{'Relevance': 'NON_RELEVANT',\n",
       "  'Explanation': \"The original answer focuses on the purpose of a FAQ document for a Machine Learning Zoomcamp, highlighting its utility and providing a link to a relevant document. The generated answer, however, addresses a completely different topic by providing information on how to sign up for the course, thus lacking relevance to the original answer's content and context.\"},\n",
       " {'Relevance': 'PARTLY_RELEVANT',\n",
       "  'Explanation': 'The generated answer provides the same link as the original answer but misinterprets its purpose. The original answer refers to the link as a part of a FAQ document in the GitHub repository, while the generated answer incorrectly states it is a sign-up link. Therefore, the content is related but does not accurately address the context of the original answer.'},\n",
       " {'Relevance': 'RELEVANT',\n",
       "  'Explanation': \"The generated answer accurately identifies that there is an FAQ for the Machine Learning course and provides the correct URL from the course's GitHub repository, aligning well with the original answer's information.\"},\n",
       " {'Relevance': 'NON_RELEVANT',\n",
       "  'Explanation': \"The generated answer does not address the original answer's content, which is about a FAQ document for a Machine Learning Zoomcamp and a specific GitHub link related to that document. Instead, the generated answer incorrectly focuses on whether there's a sign-up link in a GitHub repository, which is not mentioned in the original answer.\"},\n",
       " {'Relevance': 'PARTLY_RELEVANT',\n",
       "  'Explanation': \"The generated answer acknowledges the lack of specific information in the provided context and offers general advice on structuring questions and answers, which is somewhat aligned with the original answer's focus on providing guidance. However, the generated answer does not mention the specific resources like the 'Machine Learning Zoomcamp FAQ' or 'Data Engineering Zoomcamp FAQ' or the link to the course repository, making it less directly related to the Structuring guide mentioned in the original answer.\"},\n",
       " {'Relevance': 'PARTLY_RELEVANT',\n",
       "  'Explanation': 'The generated answer appropriately addresses the main aspect of the generated question by confirming that the course videos are pre-recorded and can be watched immediately. However, it omits additional relevant details provided in the original answer, such as the availability of office hours and the fact that both the office hours and course videos can be accessed via a YouTube playlist.'},\n",
       " {'Relevance': 'PARTLY_RELEVANT',\n",
       "  'Explanation': 'The generated answer correctly states that the course videos are pre-recorded and can be watched immediately, which aligns with the original answer. However, it omits additional important details such as the availability of live office hours, the recording of these sessions, and the fact that all content can be accessed via a YouTube playlist. Thus, while it captures the key point about immediate access to pre-recorded videos, it lacks the full context provided in the original answer.'},\n",
       " {'Relevance': 'RELEVANT',\n",
       "  'Explanation': 'The generated answer directly addresses the specific query about whether live office hours sessions are recorded, which aligns with the information provided in the original answer. Both confirm that these sessions are recorded, and therefore, the generated answer is relevant to the original context.'},\n",
       " {'Relevance': 'RELEVANT',\n",
       "  'Explanation': 'The generated answer correctly identifies that the office hours sessions can be found in the course playlist on YouTube, which aligns with the relevant information provided in the original answer.'},\n",
       " {'Relevance': 'RELEVANT',\n",
       "  'Explanation': 'The generated answer accurately addresses the question of where the pre-recorded course videos can be accessed, mentioning the course playlist on YouTube, which is consistent with the original answer. Additionally, the suggestion to visit the course page for links is supplementary but does not contradict the original answer. Overall, the generated answer is complete and relevant to the original answer.'},\n",
       " {'Relevance': 'RELEVANT',\n",
       "  'Explanation': 'The generated answer accurately reflects the original answer. It confirms that sessions are recorded, ensuring nothing is missed, aligns with the context of asking questions for office hours in advance and during the live stream, and also mentions the use of Slack for questions. All key points from the original answer are addressed in the generated answer.'},\n",
       " {'Relevance': 'RELEVANT',\n",
       "  'Explanation': 'The generated answer accurately reflects the original answer by addressing the ability to ask questions in advance and confirms that they will be covered during the live stream. It also mentions Slack as an alternative method to ask questions, which is consistent with the original answer. The generated answer is relevant and closely aligned with the original context and content.'},\n",
       " {'Relevance': 'RELEVANT',\n",
       "  'Explanation': 'The generated answer directly addresses the generated question about what happens if a session is missed. It includes all key elements from the original answer, such as the availability of recordings, asking questions in advance for office hours, and the option to ask questions in Slack, ensuring full comprehension of the protocol for missed sessions.'},\n",
       " {'Relevance': 'RELEVANT',\n",
       "  'Explanation': 'The generated answer accurately reflects the content and context of the original answer. It addresses the concern about missing sessions by stating that everything is recorded. It also mentions the opportunity to ask questions for office hours in advance and through Slack, matching the options presented in the original answer.'},\n",
       " {'Relevance': 'RELEVANT',\n",
       "  'Explanation': 'The generated answer accurately reflects the key points of the original answer. It mentions that sessions are recorded, allowing access to missed content, and that there are opportunities to ask questions in advance for office hours or through Slack. These elements maintain both the content and context of the original answer, ensuring the generated response is relevant.'},\n",
       " {'Relevance': 'RELEVANT',\n",
       "  'Explanation': 'The generated answer accurately reflects the content and context of the original answer. It communicates that the course focuses on practice with minimal theoretical content and provides a specific example regarding logistic regression. The explanation of theory being covered at an intuitive level and the practical emphasis are consistent with the original answer.'},\n",
       " {'Relevance': 'RELEVANT',\n",
       "  'Explanation': 'The generated answer closely matches the original answer in content and context. Both emphasize that the course focuses on practice rather than theoretical derivations, specifically mentioning not covering the gradient update rule for logistic regression while addressing the study of logistic regression at an intuitive level.'},\n",
       " {'Relevance': 'RELEVANT',\n",
       "  'Explanation': 'The generated answer accurately reflects the content and context of the original answer by stating that the course focuses more on practice rather than theory, and it covers the theory only at an intuitive level, which aligns with the original description.'},\n",
       " {'Relevance': 'RELEVANT',\n",
       "  'Explanation': \"The generated answer accurately aligns with the original answer's focus on the course's emphasis on practical application over theoretical depth. It also reiterates that in-depth theoretical topics are better suited for other specialized courses, thus maintaining the context and intent of the original response.\"},\n",
       " {'Relevance': 'RELEVANT',\n",
       "  'Explanation': 'The generated answer is relevant as it directly addresses the focus of the course on practical application, specifically stating that it will help in understanding how to use logistic regression and interpret its results. This aligns with the original answer, which emphasizes practical learning and a minimal focus on theory.'},\n",
       " {'Relevance': 'RELEVANT',\n",
       "  'Explanation': 'The generated answer effectively conveys the same core message as the original answer: prior knowledge in math is not necessary for the course as it focuses more on code than math formulas. Additionally, both answers mention the inclusion of linear algebra and the availability of additional resources and community support for further clarification or help, thus maintaining the relevance and context of the original answer.'},\n",
       " {'Relevance': 'PARTLY_RELEVANT',\n",
       "  'Explanation': 'The generated answer correctly identifies that the course will cover some linear algebra and emphasizes that the focus is mainly on coding, which aligns with the original answer’s mention of limited formulas and a focus on code. However, it lacks additional context present in the original answer, such as resources for learning linear algebra and encouragement to seek community help, making it less comprehensive.'},\n",
       " {'Relevance': 'RELEVANT',\n",
       "  'Explanation': 'The generated answer accurately addresses the inquiry about resources available for learning linear algebra, mirroring the options given in the original answer. Both mention the same videos by Alexey Grigorev and 3Blue1Brown and the possibility of seeking community help, maintaining consistency in content and context.'},\n",
       " {'Relevance': 'PARTLY_RELEVANT',\n",
       "  'Explanation': \"The generated answer addresses the aspect of seeking help from the community, which is mentioned in the original answer. However, it does not cover the rest of the content related to linear algebra resources and the nature of the course structure, which limits its overall relevance to the original answer's complete context.\"},\n",
       " {'Relevance': 'RELEVANT',\n",
       "  'Explanation': 'The generated answer is relevant as it directly addresses the question about recommended videos for learning linear algebra by providing the same video resources mentioned in the original answer. It captures the key information needed to respond adequately to the query.'},\n",
       " {'Relevance': 'RELEVANT',\n",
       "  'Explanation': 'The generated answer accurately captures all the key elements of the original answer, including checking the promotions or spam folders for the email, the effect of unsubscribing from the newsletter, and alternative ways to stay updated with the course through Slack and Telegram. The content and context are maintained well, making the generated answer relevant to the original answer.'},\n",
       " {'Relevance': 'RELEVANT',\n",
       "  'Explanation': 'The generated answer addresses the question about the confirmation email potentially going to the spam or promotions tab and provides additional context similar to the original answer. It also includes guidance on what to do if unsubscribed from the newsletter and suggests joining relevant channels for updates, aligning well with the information given in the original answer.'},\n",
       " {'Relevance': 'RELEVANT',\n",
       "  'Explanation': 'The generated answer directly addresses the generated question about the impact of unsubscribing from the newsletter on receiving course updates. It correctly reflects the information in the original answer by indicating that unsubscribing will prevent the receipt of course-related updates and suggesting alternative channels (Slack and Telegram) to stay informed. Both answers convey the same essential details related to the impact of unsubscribing on course updates and the alternative solutions.'},\n",
       " {'Relevance': 'PARTLY_RELEVANT',\n",
       "  'Explanation': 'The generated answer captures the essence of the original answer by suggesting alternative ways to receive course updates if the confirmation email is not received. However, it omits mentioning the possibility of checking the promotions tab or spam, and does not address the issue of having unsubscribed from the newsletter. It focuses only on joining Slack and Telegram for updates.'},\n",
       " {'Relevance': 'RELEVANT',\n",
       "  'Explanation': \"The generated answer effectively addresses the concern about staying informed on the course if there are email issues by suggesting joining the #course-ml-zoomcamp channel in Slack and the Telegram channel, which aligns with the main points of the original answer. It directly addresses the user's issue with email updates and provides the alternative communication channels highlighted in the original answer.\"},\n",
       " {'Relevance': 'RELEVANT',\n",
       "  'Explanation': \"The generated answer accurately conveys the same information as the original answer. It states that the course duration is approximately 4 months and acknowledges that it may take longer if the participant engages in extra activities, like additional projects or writing an article, which matches the original answer's context and content.\"},\n",
       " {'Relevance': 'RELEVANT',\n",
       "  'Explanation': 'The generated answer accurately reflects the content and context of the original answer. It specifies the course duration of approximately 4 months and mentions the possibility of extending this duration with additional activities such as a project or an article, maintaining the essence and details of the original response.'},\n",
       " {'Relevance': 'RELEVANT',\n",
       "  'Explanation': 'The generated answer accurately reflects the original answer by indicating that the course can exceed 4 months if additional activities like an extra project or article writing are undertaken. Both answers effectively communicate the same condition under which the course duration may extend beyond 4 months.'},\n",
       " {'Relevance': 'PARTLY_RELEVANT',\n",
       "  'Explanation': 'The generated answer correctly reflects the idea that the course duration might extend if extra activities are involved, which aligns with the original answer. However, it introduces uncertainty regarding the official extension of the course duration, which is not covered in the original answer.'},\n",
       " {'Relevance': 'PARTLY_RELEVANT',\n",
       "  'Explanation': \"The generated answer correctly identifies 'an extra project' and 'writing an article' as examples of extra activities that could extend the course time, which is consistent with the original answer. However, it does not address the aspect of 'approximately 4 months' from the original answer, making it only partly relevant to the original context.\"},\n",
       " {'Relevance': 'RELEVANT',\n",
       "  'Explanation': 'The generated answer directly addresses the generated question by providing the same information on the recommended weekly time allocation as mentioned in the original answer. Both answers specify around 10 hours per week, which is the key information extracted from the original answer, making it relevant.'},\n",
       " {'Relevance': 'RELEVANT',\n",
       "  'Explanation': 'The generated answer precisely addresses the generated question by identifying Timur Kamaliev as the person who analyzed the time needed for different modules. This directly aligns with the information provided in the original answer.'},\n",
       " {'Relevance': 'PARTLY_RELEVANT',\n",
       "  'Explanation': \"The generated answer captures the approximate weekly time spent by students as mentioned in the original answer, which is around ~10 hours per week. However, it omits the context of a detailed analysis conducted by Timur Kamaliev, which is part of the original answer's expanded information. Thus, it partially aligns with the original answer but lacks full context.\"},\n",
       " {'Relevance': 'PARTLY_RELEVANT',\n",
       "  'Explanation': 'The generated answer provides the estimated weekly time commitment, which aligns with the main point of the original answer. However, it omits additional details about the detailed analysis conducted by Timur Kamaliev and the full article, which could provide context or further insights.'},\n",
       " {'Relevance': 'PARTLY_RELEVANT',\n",
       "  'Explanation': 'The generated answer correctly mentions the article by Timur Kamaliev analyzing study time requirements, aligning with the context in the original answer. However, it lacks the specific detail of the approximate time (~10 hours per week) that the original answer provides, focusing instead on where to find the analysis, making it only partly relevant.'},\n",
       " {'Relevance': 'RELEVANT',\n",
       "  'Explanation': \"The generated answer accurately conveys the criteria for earning a certificate as outlined in the original answer, including the requirement to submit at least 2 out of 3 projects and review 3 peers' projects by the deadline. Although it omits the additional information about the appearance of the certificate, it effectively answers the question regarding the conditions for earning a certificate in the course, thereby maintaining full relevance in relation to the core content.\"},\n",
       " {'Relevance': 'RELEVANT',\n",
       "  'Explanation': \"The generated answer accurately reflects the essential requirements mentioned in the original answer for receiving a certificate, which are completing at least 2 out of 3 projects and reviewing 3 peers' projects by the deadline. Although the generated answer does not mention the description of the certificate's appearance with links, it captures the primary requirements, maintaining relevance to the core question asked.\"},\n",
       " {'Relevance': 'RELEVANT',\n",
       "  'Explanation': \"The generated answer accurately captures the key information from the original answer, clarifying that not all projects need to be completed to receive a certificate. It specifies the requirement to complete at least 2 out of 3 projects and review 3 peers' projects by the deadline, aligning well with the content of the original answer.\"},\n",
       " {'Relevance': 'PARTLY_RELEVANT',\n",
       "  'Explanation': 'The generated answer captures the criteria required for earning a certificate, such as finishing projects and reviewing peer projects by a deadline. However, it does not provide any new information about the specific deadline, which would directly answer the generated question. Therefore, while it covers some relevant aspects of the original context, it does not fully address the question posed about the specific deadline.'},\n",
       " {'Relevance': 'PARTLY_RELEVANT',\n",
       "  'Explanation': 'The generated answer addresses the specific question about the option for a certificate without a robot image, which is mentioned in the original answer. However, it does not include the initial conditions required to obtain the certificate, such as finishing projects and reviewing peers, which are contextually important for a comprehensive answer.'},\n",
       " {'Relevance': 'RELEVANT',\n",
       "  'Explanation': \"The generated answer provides a detailed explanation about the conditions under which a certificate can be received, aligning with the original answer's implication that it's possible. The generated answer expands on the necessary criteria to receive the certificate without completing the midterm project, which complements the original answer's brief confirmation.\"},\n",
       " {'Relevance': 'PARTLY_RELEVANT',\n",
       "  'Explanation': 'The generated answer provides additional details that are not present in the original answer but still aligns with the context of potentially being able to graduate without submitting the midterm project. However, it is more specific than the original, which simply states that it is possible.'},\n",
       " {'Relevance': 'PARTLY_RELEVANT',\n",
       "  'Explanation': 'The generated answer provides additional details about the eligibility criteria for certification, which is relevant to the context of the question. However, it introduces new information that was not part of the original answer, thereby deviating from its simplicity and directive to see the previous answer. The original answer implies a more general possibility without specifying conditions.'},\n",
       " {'Relevance': 'NON_RELEVANT',\n",
       "  'Explanation': 'The generated answer addresses a different aspect of a certificate requirement and provides additional details about project completion criteria, whereas the original answer refers to the possibility of an unspecified action and redirects to a previous answer without specific details. Therefore, the context and content of the two answers do not align.'},\n",
       " {'Relevance': 'NON_RELEVANT',\n",
       "  'Explanation': 'The original answer is a vague confirmation suggesting reference to a previous answer, while the generated answer provides a detailed explanation regarding the eligibility requirements for certification despite missing the midterm project. The two answers address potentially different aspects and lack sufficient context to be considered relevant.'},\n",
       " {'Relevance': 'RELEVANT',\n",
       "  'Explanation': 'The generated answer accurately identifies the Python basics required for the course, including running a Jupyter notebook, importing libraries, and declaring variables. It also matches the original answer by recommending the OpenClassrooms course for learning these basics. The content and context align well with the original answer, covering all the key points mentioned.'},\n",
       " {'Relevance': 'RELEVANT',\n",
       "  'Explanation': \"The generated answer covers all the key points mentioned in the original answer. It references the recommended book 'Introduction to Python – Machine Learning Bookcamp' and the OpenClassrooms e-learning platform course 'Learn Python Basics for Data Analysis.' Additionally, it includes the essential skills and topics necessary for the course, such as running a Jupyter notebook, importing libraries, declaring variables, and important data analysis operations. Thus, the generated answer is in alignment with the original content and context.\"},\n",
       " {'Relevance': 'PARTLY_RELEVANT',\n",
       "  'Explanation': \"The generated answer provides an explanation about the importance of knowing how to run a Jupyter notebook, which aligns with the mention in the original answer that understanding how to run a Jupyter notebook is part of the basics required for the course. However, the generated answer does not directly reference the course content, the mentioned article, or the broader context provided in the original answer concerning Python and data analysis. Thus, while the explanation is partly relevant to the component regarding Jupyter notebooks, it lacks the broader context of the original answer's focus.\"},\n",
       " {'Relevance': 'PARTLY_RELEVANT',\n",
       "  'Explanation': 'The generated answer covers most of the basics mentioned in the original answer, such as how to run a Jupyter notebook, how to import libraries, and how to declare variables. However, it omits references to the specific courses and articles suggested in the original answer and does not provide a complete guide to knowing whether you know enough before joining the course. The focus on course requirements without mentioning the resources makes it only partly relevant.'},\n",
       " {'Relevance': 'RELEVANT',\n",
       "  'Explanation': 'The generated answer directly addresses the aspect of learning how to declare variables in Python, which is mentioned in the original answer as an important basic topic covered in the recommended course. The advice to follow the OpenClassrooms course is consistent with the original answer, and the context related to Python basics for data analysis is maintained.'},\n",
       " {'Relevance': 'RELEVANT',\n",
       "  'Explanation': 'The generated answer closely matches the original answer in both content and context. It conveys the same information regarding the hardware requirements for the course, emphasizing the need for a laptop with an internet connection for Machine Learning and the option of using cloud services like Saturn Cloud for the more resource-intensive Deep Learning part. Both answers align well with each other.'},\n",
       " {'Relevance': 'RELEVANT',\n",
       "  'Explanation': 'The generated answer directly addresses the question about the requirements for the Machine Learning section, which is consistent with the information provided in the original answer. Both state that a working laptop with an internet connection is sufficient for the Machine Learning part.'},\n",
       " {'Relevance': 'RELEVANT',\n",
       "  'Explanation': 'The generated answer captures the key points from the original answer, indicating that the Deep Learning part is more resource-intensive than the Machine Learning part and recommending the use of cloud services, such as Saturn Cloud, to address this need. It accurately reflects the original content and context.'},\n",
       " {'Relevance': 'RELEVANT',\n",
       "  'Explanation': \"The generated answer directly addresses the generated question by confirming that Saturn Cloud can be used for the Deep Learning part of the course. This aligns with the original answer's statement that Saturn Cloud is a possible option for the resource-intensive Deep Learning tasks. As such, the generated answer is relevant to the original answer.\"},\n",
       " {'Relevance': 'RELEVANT',\n",
       "  'Explanation': \"The generated answer directly addresses the possibility of using a cloud service other than Saturn Cloud for the Deep Learning section, which aligns well with the original answer's mention of using different cloud services. Both answers convey that Saturn Cloud is not the only option, maintaining consistency in context and intent.\"},\n",
       " {'Relevance': 'PARTLY_RELEVANT',\n",
       "  'Explanation': \"The generated answer identifies the article link, which is relevant to the question regarding TensorFlow GPU installation on Ubuntu. However, the original answer does not specify the content or topic of the article, thus there's no confirmation that the article actually contains the installation instructions. The relevance is partial because the generated answer assumes the article content without explicit evidence.\"},\n",
       " {'Relevance': 'PARTLY_RELEVANT',\n",
       "  'Explanation': 'The generated answer references the same article as the original answer, suggesting it could contain relevant information related to setting up TensorFlow with GPU support. However, the original answer does not explicitly mention TensorFlow or GPU setup; it only provides a link to an article. The generated answer adds information about CUDA and cuDNN setup, which might not necessarily be covered in the linked article.'},\n",
       " {'Relevance': 'NON_RELEVANT',\n",
       "  'Explanation': \"The original answer is an article link with unspecified content relevance to any specific topic, while the generated answer provides detailed instructions on configuring GPU support for TensorFlow on Ubuntu. The article link mentioned in the generated answer could be the same as the original, but the topic addressed in the generated answer does not directly relate to the generic reference of the original answer, which does not mention GPU configuration or TensorFlow specifically. Thus, the generated answer diverges in content and context from the information suggested by the original answer's link, which is unspecified in its relevance to the generated topic.\"},\n",
       " {'Relevance': 'NON_RELEVANT',\n",
       "  'Explanation': 'The generated answer references an article that is suggested to be helpful for setting up TensorFlow with GPU support on Ubuntu. However, the original answer simply provides a link to an article without specifying its content or relevance to the task of setting up TensorFlow. There is no clear connection between the provided URL in the original answer and the specific context of installing TensorFlow with GPU support on Ubuntu mentioned in the generated question. Therefore, the generated answer cannot be assumed to be relevant to the original answer.'},\n",
       " {'Relevance': 'PARTLY_RELEVANT',\n",
       "  'Explanation': \"The generated answer references the same article as the original answer and provides relevant information related to setting up TensorFlow GPU on Ubuntu. However, the original answer does not provide additional context or details about the setup process, whereas the generated answer expands on the topic. Thus, while the generated answer partially aligns with the original's reference, it adds context that was not directly implied in the original answer.\"},\n",
       " {'Relevance': 'PARTLY_RELEVANT',\n",
       "  'Explanation': 'The generated answer accurately answers the question about joining a channel in Slack by detailing the steps involved, which matches the part of the original answer related to joining a Slack channel. However, it does not address the second portion of the original answer regarding the need to provide the GitHub link to receive a grade, which makes it only partly relevant.'},\n",
       " {'Relevance': 'RELEVANT',\n",
       "  'Explanation': 'The generated answer accurately follows the instructions on how to find and join channels on Slack as described in the original answer. It maintains the core steps and includes a helpful reference link to the Slack help article. While it does not address the second part of the original answer about GitHub links, this part was not prompted by the generated question, making the answer highly relevant to the task of finding Slack channels.'},\n",
       " {'Relevance': 'NON_RELEVANT',\n",
       "  'Explanation': 'The generated answer incorrectly states that there is no explicit mention of needing to provide the URL to the GitHub repository, whereas the original answer clearly specifies that providing a URL to the GitHub repo is required to receive a grade. This discrepancy makes the generated answer non-relevant to the original question about the GitHub link.'},\n",
       " {'Relevance': 'PARTLY_RELEVANT',\n",
       "  'Explanation': \"The generated answer partially addresses the GitHub URL requirement present in the original answer by stating the necessity of providing the URL for grading. However, it omits the specific context of the question about how to join a Slack channel, which is part of the original answer's content. Therefore, the generated answer is only partly relevant to the original answer, focusing on the GitHub repository requirement.\"},\n",
       " {'Relevance': 'PARTLY_RELEVANT',\n",
       "  'Explanation': 'The generated answer is relevant to the question of how to join a Slack channel and includes nearly identical instructions and a reference link as the original. However, it does not address the additional context about providing a GitHub link for a homework question, which is present in the original answer. Thus, it only partially matches the relevance and context of the original answer.'},\n",
       " {'Relevance': 'RELEVANT',\n",
       "  'Explanation': \"The generated answer captures the key aspects of the original answer. It correctly states that one can still participate in the course if they join late, mentions that some homework may not be submitted, and outlines the certification requirements, including completing 2 out of 3 projects and reviewing 3 peers' projects by the deadline. The content and context are consistent with the original answer.\"},\n",
       " {'Relevance': 'RELEVANT',\n",
       "  'Explanation': \"The generated answer accurately conveys the main points of the original answer. It specifies that a certificate can be obtained even if the course is joined after it has started, as long as the requirements of  submitting 2 out of 3 course projects and peer-reviewing 3 peers' projects by the deadline are met. It also acknowledges that missing some homework is acceptable, aligning well with the original answer.\"},\n",
       " {'Relevance': 'RELEVANT',\n",
       "  'Explanation': \"The generated answer accurately captures the key requirement from the original answer about submitting 2 out of 3 course projects and reviewing 3 peers' projects to be eligible for a certificate. The core information needed to address the question is present and relevant.\"},\n",
       " {'Relevance': 'RELEVANT',\n",
       "  'Explanation': \"The generated answer accurately addresses the specific requirement for peer reviews that is mentioned in the original answer: reviewing 3 peers' projects by the deadline. It is relevant to the specific aspect of the original answer concerning peer reviews required for obtaining a certificate.\"},\n",
       " {'Relevance': 'RELEVANT',\n",
       "  'Explanation': \"The generated answer accurately addresses the question about joining the course after it has started and provides details consistent with the original answer regarding the inability to submit some homework assignments. It also correctly states the requirements for obtaining a certificate, which include submitting 2 out of 3 course projects and reviewing 3 peers' projects, mirroring the original answer.\"}]"
      ]
     },
     "execution_count": 113,
     "metadata": {},
     "output_type": "execute_result"
    }
   ],
   "source": [
    "json_evaluations"
   ]
  },
  {
   "cell_type": "code",
   "execution_count": 114,
   "id": "72068bd3-01ab-4d2f-afb2-051e8f524661",
   "metadata": {},
   "outputs": [],
   "source": [
    "df_evaluations = pd.DataFrame(json_evaluations)"
   ]
  },
  {
   "cell_type": "code",
   "execution_count": 115,
   "id": "404b1287-4e82-42ab-9afb-a6c9f2b4ea86",
   "metadata": {},
   "outputs": [
    {
     "data": {
      "text/plain": [
       "(75, 2)"
      ]
     },
     "execution_count": 115,
     "metadata": {},
     "output_type": "execute_result"
    }
   ],
   "source": [
    "df_evaluations.shape"
   ]
  },
  {
   "cell_type": "code",
   "execution_count": 117,
   "id": "2021ff25-6ba1-42ce-a576-fbc354f82845",
   "metadata": {},
   "outputs": [
    {
     "data": {
      "text/html": [
       "<div>\n",
       "<style scoped>\n",
       "    .dataframe tbody tr th:only-of-type {\n",
       "        vertical-align: middle;\n",
       "    }\n",
       "\n",
       "    .dataframe tbody tr th {\n",
       "        vertical-align: top;\n",
       "    }\n",
       "\n",
       "    .dataframe thead th {\n",
       "        text-align: right;\n",
       "    }\n",
       "</style>\n",
       "<table border=\"1\" class=\"dataframe\">\n",
       "  <thead>\n",
       "    <tr style=\"text-align: right;\">\n",
       "      <th></th>\n",
       "      <th>Relevance</th>\n",
       "      <th>Explanation</th>\n",
       "    </tr>\n",
       "  </thead>\n",
       "  <tbody>\n",
       "    <tr>\n",
       "      <th>0</th>\n",
       "      <td>NON_RELEVANT</td>\n",
       "      <td>The original answer focuses on the purpose of ...</td>\n",
       "    </tr>\n",
       "    <tr>\n",
       "      <th>1</th>\n",
       "      <td>PARTLY_RELEVANT</td>\n",
       "      <td>The generated answer provides the same link as...</td>\n",
       "    </tr>\n",
       "    <tr>\n",
       "      <th>2</th>\n",
       "      <td>RELEVANT</td>\n",
       "      <td>The generated answer accurately identifies tha...</td>\n",
       "    </tr>\n",
       "    <tr>\n",
       "      <th>3</th>\n",
       "      <td>NON_RELEVANT</td>\n",
       "      <td>The generated answer does not address the orig...</td>\n",
       "    </tr>\n",
       "    <tr>\n",
       "      <th>4</th>\n",
       "      <td>PARTLY_RELEVANT</td>\n",
       "      <td>The generated answer acknowledges the lack of ...</td>\n",
       "    </tr>\n",
       "  </tbody>\n",
       "</table>\n",
       "</div>"
      ],
      "text/plain": [
       "         Relevance                                        Explanation\n",
       "0     NON_RELEVANT  The original answer focuses on the purpose of ...\n",
       "1  PARTLY_RELEVANT  The generated answer provides the same link as...\n",
       "2         RELEVANT  The generated answer accurately identifies tha...\n",
       "3     NON_RELEVANT  The generated answer does not address the orig...\n",
       "4  PARTLY_RELEVANT  The generated answer acknowledges the lack of ..."
      ]
     },
     "execution_count": 117,
     "metadata": {},
     "output_type": "execute_result"
    }
   ],
   "source": [
    "df_evaluations.head()"
   ]
  },
  {
   "cell_type": "code",
   "execution_count": 119,
   "id": "1161aad4-3b56-4e09-b1b5-fde8f8a5c46e",
   "metadata": {},
   "outputs": [
    {
     "data": {
      "text/plain": [
       "Relevance\n",
       "RELEVANT           44\n",
       "PARTLY_RELEVANT    24\n",
       "NON_RELEVANT        7\n",
       "Name: count, dtype: int64"
      ]
     },
     "execution_count": 119,
     "metadata": {},
     "output_type": "execute_result"
    }
   ],
   "source": [
    "df_evaluations.Relevance.value_counts()"
   ]
  },
  {
   "cell_type": "code",
   "execution_count": 128,
   "id": "7997274e-a44b-4f72-b374-65b59ae8cc98",
   "metadata": {},
   "outputs": [
    {
     "data": {
      "text/plain": [
       "[{'Relevance': 'NON_RELEVANT',\n",
       "  'Explanation': \"The original answer focuses on the purpose of a FAQ document for a Machine Learning Zoomcamp, highlighting its utility and providing a link to a relevant document. The generated answer, however, addresses a completely different topic by providing information on how to sign up for the course, thus lacking relevance to the original answer's content and context.\"},\n",
       " {'Relevance': 'NON_RELEVANT',\n",
       "  'Explanation': \"The generated answer does not address the original answer's content, which is about a FAQ document for a Machine Learning Zoomcamp and a specific GitHub link related to that document. Instead, the generated answer incorrectly focuses on whether there's a sign-up link in a GitHub repository, which is not mentioned in the original answer.\"},\n",
       " {'Relevance': 'NON_RELEVANT',\n",
       "  'Explanation': 'The generated answer addresses a different aspect of a certificate requirement and provides additional details about project completion criteria, whereas the original answer refers to the possibility of an unspecified action and redirects to a previous answer without specific details. Therefore, the context and content of the two answers do not align.'},\n",
       " {'Relevance': 'NON_RELEVANT',\n",
       "  'Explanation': 'The original answer is a vague confirmation suggesting reference to a previous answer, while the generated answer provides a detailed explanation regarding the eligibility requirements for certification despite missing the midterm project. The two answers address potentially different aspects and lack sufficient context to be considered relevant.'},\n",
       " {'Relevance': 'NON_RELEVANT',\n",
       "  'Explanation': \"The original answer is an article link with unspecified content relevance to any specific topic, while the generated answer provides detailed instructions on configuring GPU support for TensorFlow on Ubuntu. The article link mentioned in the generated answer could be the same as the original, but the topic addressed in the generated answer does not directly relate to the generic reference of the original answer, which does not mention GPU configuration or TensorFlow specifically. Thus, the generated answer diverges in content and context from the information suggested by the original answer's link, which is unspecified in its relevance to the generated topic.\"},\n",
       " {'Relevance': 'NON_RELEVANT',\n",
       "  'Explanation': 'The generated answer references an article that is suggested to be helpful for setting up TensorFlow with GPU support on Ubuntu. However, the original answer simply provides a link to an article without specifying its content or relevance to the task of setting up TensorFlow. There is no clear connection between the provided URL in the original answer and the specific context of installing TensorFlow with GPU support on Ubuntu mentioned in the generated question. Therefore, the generated answer cannot be assumed to be relevant to the original answer.'},\n",
       " {'Relevance': 'NON_RELEVANT',\n",
       "  'Explanation': 'The generated answer incorrectly states that there is no explicit mention of needing to provide the URL to the GitHub repository, whereas the original answer clearly specifies that providing a URL to the GitHub repo is required to receive a grade. This discrepancy makes the generated answer non-relevant to the original question about the GitHub link.'}]"
      ]
     },
     "execution_count": 128,
     "metadata": {},
     "output_type": "execute_result"
    }
   ],
   "source": [
    "df_evaluations[df_evaluations.Relevance == 'NON_RELEVANT'].to_dict(orient='records')"
   ]
  },
  {
   "cell_type": "code",
   "execution_count": 124,
   "id": "77410dce-733f-4c1e-8166-eca97befe4a1",
   "metadata": {},
   "outputs": [
    {
     "data": {
      "text/plain": [
       "{'answer_llm': 'Based on the provided context, there is no explicit mention of a requirement to provide the URL to your GitHub repository. However, it is indicated that the GitHub repository should be public, so whoever corrects the homework can access it. If a public link is needed for this purpose, then providing the URL would make sense, but this specific requirement is not directly addressed in the context.',\n",
       " 'answer_orig': \"Here’s how you join a in Slack: https://slack.com/help/articles/205239967-Join-a-channel\\nClick “All channels” at the top of your left sidebar. If you don't see this option, click “More” to find it.\\nBrowse the list of public channels in your workspace, or use the search bar to search by channel name or description.\\nSelect a channel from the list to view it.\\nClick Join Channel.\\nDo we need to provide the GitHub link to only our code corresponding to the homework questions?\\nYes. You are required to provide the URL to your repo in order to receive a grade\",\n",
       " 'document': '4930aa19',\n",
       " 'question': 'Is there a need to give the URL to our GitHub repo?',\n",
       " 'course': 'machine-learning-zoomcamp',\n",
       " 'cosine': 0.3666718900203705}"
      ]
     },
     "execution_count": 124,
     "metadata": {},
     "output_type": "execute_result"
    }
   ],
   "source": [
    "samples[67]"
   ]
  },
  {
   "cell_type": "code",
   "execution_count": 127,
   "id": "4ddf7f25-ed7b-4a1e-a945-51b73b6b816b",
   "metadata": {},
   "outputs": [
    {
     "data": {
      "application/vnd.jupyter.widget-view+json": {
       "model_id": "b2c7b57a536b431e9fdaa8e5b2f69741",
       "version_major": 2,
       "version_minor": 0
      },
      "text/plain": [
       "  0%|          | 0/75 [00:00<?, ?it/s]"
      ]
     },
     "metadata": {},
     "output_type": "display_data"
    }
   ],
   "source": [
    "evaluations_2 = []\n",
    "for record in tqdm(samples):\n",
    "    prompt = prompt2_template.format(**record)\n",
    "    evaluation = llm(prompt, model='gpt-4o-mini')\n",
    "    evaluations_2.append(evaluation)"
   ]
  },
  {
   "cell_type": "code",
   "execution_count": 129,
   "id": "38a71686-b966-456c-bf94-675556ef082c",
   "metadata": {},
   "outputs": [],
   "source": [
    "json_evaluations_2 = []\n",
    "\n",
    "for i, str_eval in enumerate(evaluations_2):\n",
    "    json_eval = json.loads(str_eval)\n",
    "    json_evaluations_2.append(json_eval)"
   ]
  },
  {
   "cell_type": "code",
   "execution_count": 130,
   "id": "bb240a3f-6b69-4b6e-97af-1eb39c47709a",
   "metadata": {},
   "outputs": [],
   "source": [
    "df_evaluations_2 = pd.DataFrame(json_evaluations_2)"
   ]
  },
  {
   "cell_type": "code",
   "execution_count": 134,
   "id": "14678f70-c824-4293-b883-a2d489ca9044",
   "metadata": {},
   "outputs": [
    {
     "data": {
      "text/html": [
       "<div>\n",
       "<style scoped>\n",
       "    .dataframe tbody tr th:only-of-type {\n",
       "        vertical-align: middle;\n",
       "    }\n",
       "\n",
       "    .dataframe tbody tr th {\n",
       "        vertical-align: top;\n",
       "    }\n",
       "\n",
       "    .dataframe thead th {\n",
       "        text-align: right;\n",
       "    }\n",
       "</style>\n",
       "<table border=\"1\" class=\"dataframe\">\n",
       "  <thead>\n",
       "    <tr style=\"text-align: right;\">\n",
       "      <th></th>\n",
       "      <th>Relevance</th>\n",
       "      <th>Explanation</th>\n",
       "    </tr>\n",
       "  </thead>\n",
       "  <tbody>\n",
       "    <tr>\n",
       "      <th>3</th>\n",
       "      <td>PARTLY_RELEVANT</td>\n",
       "      <td>The generated answer addresses the question by...</td>\n",
       "    </tr>\n",
       "    <tr>\n",
       "      <th>4</th>\n",
       "      <td>PARTLY_RELEVANT</td>\n",
       "      <td>The generated answer acknowledges the lack of ...</td>\n",
       "    </tr>\n",
       "    <tr>\n",
       "      <th>21</th>\n",
       "      <td>PARTLY_RELEVANT</td>\n",
       "      <td>The generated answer mentions linear algebra a...</td>\n",
       "    </tr>\n",
       "    <tr>\n",
       "      <th>26</th>\n",
       "      <td>PARTLY_RELEVANT</td>\n",
       "      <td>The generated answer directly addresses the po...</td>\n",
       "    </tr>\n",
       "    <tr>\n",
       "      <th>33</th>\n",
       "      <td>PARTLY_RELEVANT</td>\n",
       "      <td>The generated answer provides some information...</td>\n",
       "    </tr>\n",
       "    <tr>\n",
       "      <th>43</th>\n",
       "      <td>PARTLY_RELEVANT</td>\n",
       "      <td>The generated answer does not provide a specif...</td>\n",
       "    </tr>\n",
       "    <tr>\n",
       "      <th>67</th>\n",
       "      <td>PARTLY_RELEVANT</td>\n",
       "      <td>The generated answer touches on the need for a...</td>\n",
       "    </tr>\n",
       "    <tr>\n",
       "      <th>74</th>\n",
       "      <td>PARTLY_RELEVANT</td>\n",
       "      <td>The generated answer addresses the question ab...</td>\n",
       "    </tr>\n",
       "  </tbody>\n",
       "</table>\n",
       "</div>"
      ],
      "text/plain": [
       "          Relevance                                        Explanation\n",
       "3   PARTLY_RELEVANT  The generated answer addresses the question by...\n",
       "4   PARTLY_RELEVANT  The generated answer acknowledges the lack of ...\n",
       "21  PARTLY_RELEVANT  The generated answer mentions linear algebra a...\n",
       "26  PARTLY_RELEVANT  The generated answer directly addresses the po...\n",
       "33  PARTLY_RELEVANT  The generated answer provides some information...\n",
       "43  PARTLY_RELEVANT  The generated answer does not provide a specif...\n",
       "67  PARTLY_RELEVANT  The generated answer touches on the need for a...\n",
       "74  PARTLY_RELEVANT  The generated answer addresses the question ab..."
      ]
     },
     "execution_count": 134,
     "metadata": {},
     "output_type": "execute_result"
    }
   ],
   "source": [
    "df_evaluations_2[df_evaluations_2.Relevance == 'PARTLY_RELEVANT']"
   ]
  },
  {
   "cell_type": "code",
   "execution_count": 133,
   "id": "e035bdb9-6714-48f7-b2e3-0b43d0848345",
   "metadata": {},
   "outputs": [
    {
     "data": {
      "text/plain": [
       "Relevance\n",
       "RELEVANT           67\n",
       "PARTLY_RELEVANT     8\n",
       "Name: count, dtype: int64"
      ]
     },
     "execution_count": 133,
     "metadata": {},
     "output_type": "execute_result"
    }
   ],
   "source": [
    "df_evaluations_2.Relevance.value_counts()"
   ]
  },
  {
   "cell_type": "markdown",
   "id": "12e96ce4-1251-4965-955d-931f8604ae2c",
   "metadata": {},
   "source": [
    "## save the data ##"
   ]
  },
  {
   "cell_type": "code",
   "execution_count": 135,
   "id": "bb798351-699a-4eda-b078-6b0de911def2",
   "metadata": {},
   "outputs": [],
   "source": [
    "df_gpt4o.to_csv('data/results-gpt4o-cosine.csv', index=False)\n",
    "df_gpt35.to_csv('data/results-gpt35-cosine.csv', index=False)"
   ]
  },
  {
   "cell_type": "code",
   "execution_count": 136,
   "id": "d05ce254-f3f4-4b19-89f7-4ee03cb5572a",
   "metadata": {},
   "outputs": [],
   "source": [
    "df_evaluations.to_csv('data/evaluations-aqa.csv', index=False)\n",
    "df_evaluations_2.to_csv('data/evaluations-qa.csv', index=False)"
   ]
  },
  {
   "cell_type": "code",
   "execution_count": null,
   "id": "f301f952-10eb-4db7-aac4-30a4eb694c8f",
   "metadata": {},
   "outputs": [],
   "source": []
  }
 ],
 "metadata": {
  "kernelspec": {
   "display_name": "myenv",
   "language": "python",
   "name": "myenv"
  },
  "language_info": {
   "codemirror_mode": {
    "name": "ipython",
    "version": 3
   },
   "file_extension": ".py",
   "mimetype": "text/x-python",
   "name": "python",
   "nbconvert_exporter": "python",
   "pygments_lexer": "ipython3",
   "version": "3.9.6"
  }
 },
 "nbformat": 4,
 "nbformat_minor": 5
}
